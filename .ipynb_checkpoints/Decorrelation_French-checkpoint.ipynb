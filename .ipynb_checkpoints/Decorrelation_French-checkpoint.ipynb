{
 "cells": [
  {
   "cell_type": "code",
   "execution_count": 57,
   "metadata": {},
   "outputs": [],
   "source": [
    "import os, logging, gensim\n",
    "import numpy as np\n",
    "import pandas as pd\n",
    "from sklearn import linear_model\n",
    "import unicodedata as ud\n",
    "import copy"
   ]
  },
  {
   "cell_type": "code",
   "execution_count": 58,
   "metadata": {},
   "outputs": [],
   "source": [
    "# Global configuration\n",
    "lang = 'French_POS'\n",
    "include_pos = True\n",
    "root_path = './' + lang + '/'\n",
    "\n",
    "if lang == 'French':\n",
    "    sim_model_path = root_path + 'wolf_15k_850d.txt'\n",
    "    mix_model_path = root_path + 'depglove_200d_eric.txt'\n",
    "    asn_model_path = root_path + 'asn_embedding.txt'\n",
    "    sig_model_path = root_path + 'sig_embedding.txt'\n",
    "elif lang == 'French_POS':\n",
    "    sim_model_path = root_path + 'wolf_pos_850d.txt'\n",
    "    mix_model_path = root_path + 'depglove_200d_eric.txt'\n",
    "    asn_model_path = root_path + 'asn_embedding_24519.txt'\n",
    "    sig_model_path = root_path + 'sig_embedding.txt'\n",
    "elif lang == 'English':\n",
    "    sim_model_path = root_path + 'sim_embedding.txt'\n",
    "    mix_model_path = root_path + 'glove.840B.300d.txt'\n",
    "    asn_model_path = root_path + 'asn_embedding.txt'\n",
    "    sig_model_path = root_path + 'sig_embedding.txt'\n"
   ]
  },
  {
   "cell_type": "code",
   "execution_count": 59,
   "metadata": {},
   "outputs": [],
   "source": [
    "import os, logging, gensim\n",
    "import numpy as np\n",
    "import pandas as pd\n",
    "from sklearn import linear_model\n",
    "from sklearn.decomposition import PCA\n",
    "from matplotlib import pyplot as plt\n",
    "from matplotlib import cm\n",
    "import gensim\n",
    "from scipy.signal import savgol_filter"
   ]
  },
  {
   "cell_type": "code",
   "execution_count": 79,
   "metadata": {},
   "outputs": [],
   "source": [
    "# LaTeX configure\n",
    "plt.rc('text', usetex=True)\n",
    "plt.rc('font', **{'family': 'serif', 'serif':['Palatino']})"
   ]
  },
  {
   "cell_type": "markdown",
   "metadata": {},
   "source": [
    "# Dimension Selection "
   ]
  },
  {
   "cell_type": "code",
   "execution_count": 6,
   "metadata": {},
   "outputs": [],
   "source": [
    "sim_model_origin = np.load('/home/sying/Documents/WordNetEmbeddings/data/output_230119/Normalized_random_walk.npy')\n",
    "sim_origin_fr = np.load('/home/sying/Documents/WordNetEmbeddings/data/output_140219_all/Normalized_random_walk.npy')"
   ]
  },
  {
   "cell_type": "code",
   "execution_count": null,
   "metadata": {},
   "outputs": [],
   "source": [
    "pca = PCA(n_components=8000, svd_solver='randomized')\n",
    "pca_sim_o = pca.fit(sim_model_origin)\n",
    "var_cum = np.cumsum(pca_sim_o.explained_variance_ratio_)"
   ]
  },
  {
   "cell_type": "code",
   "execution_count": null,
   "metadata": {},
   "outputs": [],
   "source": [
    "pca_fr = PCA(n_components=8000, svd_solver='randomized')\n",
    "pca_sim_o_fr = pca_fr.fit(sim_origin_fr)\n",
    "var_cum_fr = np.cumsum(pca_sim_o_fr.explained_variance_ratio_)"
   ]
  },
  {
   "cell_type": "code",
   "execution_count": 5,
   "metadata": {},
   "outputs": [],
   "source": [
    "# np.save('pca_sim_fr_all.npy', pca_sim_o_fr)\n",
    "# np.save('pca_sim_en_all.npy', pca_sim_o)\n",
    "pca_sim_o_fr = np.load('pca_sim_fr_all.npy')\n",
    "pca_sim_o = np.load('pca_sim_en_all.npy')"
   ]
  },
  {
   "cell_type": "code",
   "execution_count": 6,
   "metadata": {},
   "outputs": [],
   "source": [
    "pca_sim_o_fr = pca_sim_o_fr.item()\n",
    "pca_sim_o = pca_sim_o.item()"
   ]
  },
  {
   "cell_type": "code",
   "execution_count": 18,
   "metadata": {},
   "outputs": [
    {
     "name": "stderr",
     "output_type": "stream",
     "text": [
      "/home/sying/root/anaconda3/envs/micipsa/lib/python3.6/site-packages/matplotlib/font_manager.py:1331: UserWarning: findfont: Font family ['serif'] not found. Falling back to DejaVu Sans\n",
      "  (prop.get_family(), self.defaultFamily[fontext]))\n",
      "/home/sying/root/anaconda3/envs/micipsa/lib/python3.6/site-packages/matplotlib/font_manager.py:1331: UserWarning: findfont: Font family ['serif'] not found. Falling back to DejaVu Sans\n",
      "  (prop.get_family(), self.defaultFamily[fontext]))\n",
      "/home/sying/root/anaconda3/envs/micipsa/lib/python3.6/site-packages/matplotlib/font_manager.py:1331: UserWarning: findfont: Font family ['serif'] not found. Falling back to DejaVu Sans\n",
      "  (prop.get_family(), self.defaultFamily[fontext]))\n",
      "/home/sying/root/anaconda3/envs/micipsa/lib/python3.6/site-packages/matplotlib/font_manager.py:1331: UserWarning: findfont: Font family ['serif'] not found. Falling back to DejaVu Sans\n",
      "  (prop.get_family(), self.defaultFamily[fontext]))\n"
     ]
    },
    {
     "data": {
      "image/png": "[encoded data removed]",
      "text/plain": [
       "<Figure size 251.28x155.52 with 1 Axes>"
      ]
     },
     "metadata": {
      "needs_background": "light"
     },
     "output_type": "display_data"
    }
   ],
   "source": [
    "f = plt.figure(figsize=(3.49, 2.16))\n",
    "plt.yscale('log')\n",
    "#plt.plot(var_cum)\n",
    "plt.plot(pca_sim_o.explained_variance_ratio_, label='ENG')\n",
    "plt.plot(pca_sim_o_fr.explained_variance_ratio_, label='FRE')\n",
    "plt.vlines(x=300, ymax=1, ymin=0, label='D300 Ref')\n",
    "plt.legend()\n",
    "plt.title(r'\\textbf{Explained Variance Ratio of Principle Components}', fontsize=10)\n",
    "plt.ylabel(r'log(Ratio)', fontsize=9)\n",
    "plt.xlabel(r'\\#th Component', fontsize=9)\n",
    "plt.show()\n",
    "\n",
    "f.savefig(\"SimDimensionSelectionVarRatio.pdf\", bbox_inches='tight')"
   ]
  },
  {
   "cell_type": "code",
   "execution_count": 28,
   "metadata": {},
   "outputs": [
    {
     "data": {
      "image/png": "[encoded data removed]",
      "text/plain": [
       "<Figure size 432x288 with 1 Axes>"
      ]
     },
     "metadata": {
      "needs_background": "light"
     },
     "output_type": "display_data"
    }
   ],
   "source": [
    "plt.yscale('log')\n",
    "#plt.plot(var_cum)\n",
    "plt.plot(pca_sim_o.singular_values_, label='ENG')\n",
    "plt.plot(pca_sim_o_fr.singular_values_, label='FRE')\n",
    "plt.vlines(x=300, ymax=100, ymin=0)\n",
    "plt.legend()\n",
    "plt.show()"
   ]
  },
  {
   "cell_type": "code",
   "execution_count": null,
   "metadata": {},
   "outputs": [],
   "source": []
  },
  {
   "cell_type": "code",
   "execution_count": 80,
   "metadata": {},
   "outputs": [],
   "source": [
    "# Word Alignment in two embeddings\n",
    "file = open(sim_model_path, mode='r')\n",
    "voc, dim = file.readline().split(' ')\n",
    "voc = int(voc)\n",
    "dim_sim = int(dim)\n",
    "\n",
    "file_data = file.readlines()\n",
    "file.close()\n",
    "\n",
    "vocabulary = dict()\n",
    "idx = 0\n",
    "sim_model = np.zeros((voc, dim_sim), dtype=np.float32)\n",
    "word_list = []\n",
    "\n",
    "for line in file_data:\n",
    "    vector = line.split(' ')\n",
    "    word_list.append(vector[0])\n",
    "    vocabulary[vector[0]] = idx\n",
    "    sim_model[idx,:] = vector[1:]\n",
    "    idx += 1"
   ]
  },
  {
   "cell_type": "code",
   "execution_count": 195,
   "metadata": {},
   "outputs": [],
   "source": [
    "pca_sim_o = np.load('./pca_sim_en_all.npy')"
   ]
  },
  {
   "cell_type": "code",
   "execution_count": 203,
   "metadata": {},
   "outputs": [],
   "source": [
    "pca_sim_o = pca_sim_o.item()"
   ]
  },
  {
   "cell_type": "code",
   "execution_count": 41,
   "metadata": {},
   "outputs": [
    {
     "name": "stderr",
     "output_type": "stream",
     "text": [
      "/home/sying/root/anaconda3/envs/micipsa/lib/python3.6/site-packages/scipy/signal/_arraytools.py:45: FutureWarning: Using a non-tuple sequence for multidimensional indexing is deprecated; use `arr[tuple(seq)]` instead of `arr[seq]`. In the future this will be interpreted as an array index, `arr[np.array(seq)]`, which will result either in an error or a different result.\n",
      "  b = a[a_slice]\n",
      "/home/sying/root/anaconda3/envs/micipsa/lib/python3.6/site-packages/matplotlib/font_manager.py:1331: UserWarning: findfont: Font family ['serif'] not found. Falling back to DejaVu Sans\n",
      "  (prop.get_family(), self.defaultFamily[fontext]))\n",
      "/home/sying/root/anaconda3/envs/micipsa/lib/python3.6/site-packages/matplotlib/font_manager.py:1331: UserWarning: findfont: Font family ['serif'] not found. Falling back to DejaVu Sans\n",
      "  (prop.get_family(), self.defaultFamily[fontext]))\n"
     ]
    },
    {
     "data": {
      "image/png": "[encoded data removed]",
      "text/plain": [
       "<Figure size 502.56x311.04 with 4 Axes>"
      ]
     },
     "metadata": {
      "needs_background": "light"
     },
     "output_type": "display_data"
    }
   ],
   "source": [
    "f, ax = plt.subplots(2, 2, figsize=(3.49 * 2, 2.16 * 2), sharey=False)\n",
    "\n",
    "en_eig_dif = np.array(pca_sim_o.singular_values_)\n",
    "en_eig_dif[1:] = en_eig_dif[:-1] - en_eig_dif[1:]\n",
    "yhat = savgol_filter(en_eig_dif, 101, 1)\n",
    "\n",
    "fr_eig_dif = np.array(pca_sim_o_fr.singular_values_)\n",
    "fr_eig_dif[1:] = fr_eig_dif[:-1] - fr_eig_dif[1:]\n",
    "yhat2 = savgol_filter(fr_eig_dif, 101, 1)\n",
    "#plt.plot(var_cum)\n",
    "# plt.plot(fr_eig_dif_smoothed, label='FRE')\n",
    "dim_sim_eng = 511\n",
    "dim_sim_fre = 634\n",
    "ax[0, 0].set_yscale('log')\n",
    "ax[0, 1].set_yscale('log')\n",
    "#plt.plot(var_cum)\n",
    "ax[0, 0].plot(yhat, label='ENG')\n",
    "ax[1, 0].plot(yhat2, label='FRE')\n",
    "ax[0, 0].vlines(x=dim_sim_eng, ymax=60, ymin=0, label='D511, ENG')\n",
    "ax[1, 0].vlines(x=dim_sim_fre, ymax=60, ymin=0, label='D634, FRE')\n",
    "\n",
    "\n",
    "\n",
    "ax[1, 0].set_yscale('log')\n",
    "ax[1, 1].set_yscale('log')\n",
    "#plt.plot(var_cum)\n",
    "ax[0, 1].plot(yhat, label='ENG')\n",
    "ax[1, 1].plot(yhat2, label='FRE')\n",
    "ax[0, 1].vlines(x=dim_sim_eng, ymax=60, ymin=0, label='D511, ENG')\n",
    "ax[1, 1].vlines(x=dim_sim_fre, ymax=60, ymin=0, label='D634, FRE')\n",
    "ax[0, 1].set_xlim(500,520)\n",
    "ax[1, 1].set_xlim(610,650)\n",
    "ax[0, 0].legend()\n",
    "ax[0, 1].legend()\n",
    "ax[1, 0].legend()\n",
    "ax[1, 1].legend()\n",
    "\n",
    "plt.suptitle(r'\\textbf{Savitzky-Golay Smoothed Difference of Explained Variance Ratio of Principle Components}', fontsize=10)\n",
    "ax[0, 0].set_ylabel(r'log(Filtered Ratio Difference)', fontsize=9)\n",
    "ax[1, 0].set_ylabel(r'log(Filtered Ratio Difference)', fontsize=9)\n",
    "ax[1, 0].set_xlabel(r'\\#th Component', fontsize=9)\n",
    "ax[1, 1].set_xlabel(r'zoom in', fontsize=9)\n",
    "f.savefig(\"SimDimensionSelectionVarRatioDiff.pdf\", bbox_inches='tight')\n",
    "plt.show()"
   ]
  },
  {
   "cell_type": "code",
   "execution_count": 206,
   "metadata": {},
   "outputs": [
    {
     "data": {
      "image/png": "[encoded data removed]",
      "text/plain": [
       "<Figure size 432x288 with 1 Axes>"
      ]
     },
     "metadata": {
      "needs_background": "light"
     },
     "output_type": "display_data"
    }
   ],
   "source": [
    "dim_sim_eng = 511\n",
    "plt.yscale('log')\n",
    "#plt.plot(var_cum)\n",
    "plt.plot(yhat, label='ENG')\n",
    "plt.vlines(x=dim_sim_eng, ymax=100, ymin=0)\n",
    "plt.xlim(500,520)\n",
    "plt.legend()\n",
    "plt.show()"
   ]
  },
  {
   "cell_type": "code",
   "execution_count": 96,
   "metadata": {},
   "outputs": [
    {
     "data": {
      "image/png": "[encoded data removed]",
      "text/plain": [
       "<Figure size 432x288 with 1 Axes>"
      ]
     },
     "metadata": {
      "needs_background": "light"
     },
     "output_type": "display_data"
    }
   ],
   "source": [
    "fr_eig_dif = np.array(pca_sim_o_fr.singular_values_)\n",
    "fr_eig_dif[1:] = fr_eig_dif[:-1] - fr_eig_dif[1:]\n",
    "fr_eig_dif_smoothed = (fr_eig_dif[:-3] + fr_eig_dif[1:-2] + fr_eig_dif[2:-1] + fr_eig_dif[3:])/4\n",
    "yhat = savgol_filter(fr_eig_dif, 101, 1)\n",
    "plt.yscale('log')\n",
    "#plt.plot(var_cum)\n",
    "# plt.plot(fr_eig_dif_smoothed, label='FRE')\n",
    "plt.plot(yhat, label='FRE_SAV')\n",
    "plt.vlines(x=650, ymax=100, ymin=0)\n",
    "plt.legend()\n",
    "plt.show()"
   ]
  },
  {
   "cell_type": "code",
   "execution_count": 99,
   "metadata": {},
   "outputs": [
    {
     "data": {
      "image/png": "[encoded data removed]",
      "text/plain": [
       "<Figure size 432x288 with 1 Axes>"
      ]
     },
     "metadata": {
      "needs_background": "light"
     },
     "output_type": "display_data"
    }
   ],
   "source": [
    "dim_sim_fre = 634\n",
    "plt.yscale('log')\n",
    "#plt.plot(var_cum)\n",
    "plt.xlim(610,650)\n",
    "plt.plot(fr_eig_dif_smoothed, label='FRE')\n",
    "plt.plot(yhat, label='FRE_SAV')\n",
    "plt.vlines(x=634, ymax=100, ymin=0)\n",
    "plt.legend()\n",
    "plt.show()"
   ]
  },
  {
   "cell_type": "code",
   "execution_count": 16,
   "metadata": {},
   "outputs": [],
   "source": [
    "if lang == 'French':\n",
    "    file = open(mix_model_path, mode='r', encoding=\"cp1252\")\n",
    "if lang == 'English':\n",
    "    file = open(mix_model_path, mode='r')\n",
    "file_data = file.readlines()\n",
    "file.close()"
   ]
  },
  {
   "cell_type": "code",
   "execution_count": 23,
   "metadata": {},
   "outputs": [],
   "source": [
    "voc, dim_mix = file_data[0].split()\n",
    "if lang == 'English':\n",
    "    mix_model = np.zeros((int(voc), int(dim_mix)), dtype=np.float32)\n",
    "    vocabulary = []\n",
    "    for line in file_data[1:]:\n",
    "        vector = line.split(' ')\n",
    "        mix_model[len(vocabulary),:] = vector[1:]\n",
    "        vocabulary.append(vector[0])\n",
    "        \n",
    "        "
   ]
  },
  {
   "cell_type": "code",
   "execution_count": 26,
   "metadata": {},
   "outputs": [
    {
     "ename": "AttributeError",
     "evalue": "module 'pandas' has no attribute 'Dataframe'",
     "output_type": "error",
     "traceback": [
      "\u001b[0;31m---------------------------------------------------------------------------\u001b[0m",
      "\u001b[0;31mAttributeError\u001b[0m                            Traceback (most recent call last)",
      "\u001b[0;32m<ipython-input-26-da39f63c57fc>\u001b[0m in \u001b[0;36m<module>\u001b[0;34m\u001b[0m\n\u001b[1;32m      1\u001b[0m \u001b[0mpca\u001b[0m \u001b[0;34m=\u001b[0m \u001b[0mPCA\u001b[0m\u001b[0;34m(\u001b[0m\u001b[0mn_components\u001b[0m\u001b[0;34m=\u001b[0m\u001b[0;36m300\u001b[0m\u001b[0;34m,\u001b[0m \u001b[0msvd_solver\u001b[0m\u001b[0;34m=\u001b[0m\u001b[0;34m'randomized'\u001b[0m\u001b[0;34m)\u001b[0m\u001b[0;34m\u001b[0m\u001b[0m\n\u001b[1;32m      2\u001b[0m \u001b[0mpca_mix_o\u001b[0m \u001b[0;34m=\u001b[0m \u001b[0mpca\u001b[0m\u001b[0;34m.\u001b[0m\u001b[0mfit_transform\u001b[0m\u001b[0;34m(\u001b[0m\u001b[0mmix_model\u001b[0m\u001b[0;34m)\u001b[0m\u001b[0;34m\u001b[0m\u001b[0m\n\u001b[0;32m----> 3\u001b[0;31m \u001b[0mmix_pca\u001b[0m \u001b[0;34m=\u001b[0m \u001b[0mpd\u001b[0m\u001b[0;34m.\u001b[0m\u001b[0mDataframe\u001b[0m\u001b[0;34m(\u001b[0m\u001b[0mpca_mix_o\u001b[0m\u001b[0;34m)\u001b[0m\u001b[0;34m\u001b[0m\u001b[0m\n\u001b[0m",
      "\u001b[0;31mAttributeError\u001b[0m: module 'pandas' has no attribute 'Dataframe'"
     ]
    }
   ],
   "source": [
    "#pca = PCA(n_components=300, svd_solver='randomized')\n",
    "#pca_mix_o = pca.fit_transform(mix_model)\n"
   ]
  },
  {
   "cell_type": "code",
   "execution_count": 31,
   "metadata": {},
   "outputs": [
    {
     "data": {
      "image/png": "[encoded data removed]",
      "text/plain": [
       "<Figure size 432x288 with 1 Axes>"
      ]
     },
     "metadata": {
      "needs_background": "light"
     },
     "output_type": "display_data"
    }
   ],
   "source": [
    "plt.yscale('log')\n",
    "#plt.plot(var_cum)\n",
    "plt.plot(pca.explained_variance_ratio_, label='ENG')\n",
    "plt.legend()\n",
    "plt.show()"
   ]
  },
  {
   "cell_type": "markdown",
   "metadata": {},
   "source": [
    "# Generate Embeddings"
   ]
  },
  {
   "cell_type": "code",
   "execution_count": 5,
   "metadata": {},
   "outputs": [],
   "source": [
    "# Global configuration\n",
    "lang = 'English'\n",
    "root_path = '/home/sying/Documents/Decorrelation/' + lang + '/'\n",
    "\n",
    "if lang == 'French':\n",
    "    sim_model_path = root_path + 'wolf_15k_850d.txt'\n",
    "    mix_model_path = root_path + 'depglove_200d_eric.txt'\n",
    "    asn_model_path = root_path + 'asn_embedding.txt'\n",
    "    sig_model_path = root_path + 'sig_embedding.txt'\n",
    "elif lang == 'English':\n",
    "    sim_model_path = root_path + 'sim_embedding.txt'\n",
    "    mix_model_path = root_path + 'glove_840B_300d.txt'\n",
    "    asn_model_path = root_path + 'asn_embedding_511.txt'\n",
    "    sig_model_path = root_path + 'sig_embedding_511.txt'\n"
   ]
  },
  {
   "cell_type": "code",
   "execution_count": 105,
   "metadata": {},
   "outputs": [],
   "source": [
    "dim = dim_sim_eng\n",
    "word_list = np.load('/home/sying/Documents/WordNetEmbeddings/data/output_230119/word_list.npy')\n",
    "pca_sim_o = pca_sim_o.fit_transform(sim_model_origin)\n",
    "file = open(root_path + 'sim_15k_'+ str(dim) +'d.txt', mode='w+')\n",
    "file.write(str(len(word_list)) + ' ' + str(dim) + '\\n')\n",
    "for idx, word in enumerate(word_list):\n",
    "    file.write(word + ' ')\n",
    "    file.write(' '.join(map(str, pca_sim_o[idx, :dim_sim_eng])))\n",
    "    file.write('\\n')\n",
    "file.close()"
   ]
  },
  {
   "cell_type": "code",
   "execution_count": 109,
   "metadata": {},
   "outputs": [
    {
     "name": "stdout",
     "output_type": "stream",
     "text": [
      "ref: wordsim_rel.csv---dim: 511---------------------\n",
      "Pearson, r 0.027953538301716298 p 0.6626289849553657\n",
      "Spearman, r 0.019334207436002393 p 0.7628587295076241\n",
      "ref: simlex999.csv---dim: 511---------------------\n",
      "Pearson, r 0.5060569631973371 p 5.995162912635793e-66\n",
      "Spearman, r 0.49887683715274217 p 7.405558598896457e-64\n"
     ]
    }
   ],
   "source": [
    "ref_model = [\"wordsim_rel.csv\", \"simlex999.csv\"]\n",
    "\n",
    "model = gensim.models.KeyedVectors.load_word2vec_format(root_path + 'sim_15k_'+ str(dim) +'d.txt', binary=False)\n",
    "for ref in ref_model:\n",
    "    print (\"ref: %s---dim: %d---------------------\"%(ref, dim))\n",
    "    refp = \"/home/sying/Documents/WordNetEmbeddings/data/input/English_testset/\" + ref\n",
    "    res = model.evaluate_word_pairs(refp, delimiter=';')\n",
    "    print(\"Pearson, r\", res[0][0], 'p', res[0][1])\n",
    "    print(\"Spearman, r\", res[1][0], 'p', res[1][1])     \n",
    "    # print(\"OOV\", res[2])        "
   ]
  },
  {
   "cell_type": "code",
   "execution_count": 4,
   "metadata": {},
   "outputs": [],
   "source": [
    "# Global configuration\n",
    "lang = 'French_POS'\n",
    "root_path = '/home/sying/Documents/Decorrelation/' + lang + '/'\n"
   ]
  },
  {
   "cell_type": "code",
   "execution_count": 117,
   "metadata": {},
   "outputs": [],
   "source": [
    "dim = dim_sim_fre\n",
    "word_list = np.load('/home/sying/Documents/WordNetEmbeddings/data/output_140219_all/word_list_FR_POS_ALL.npy')\n",
    "pca_sim_o = pca_sim_o_fr.transform(sim_origin_fr)\n",
    "file = open(root_path + 'sim_15k_'+ str(dim) +'d.txt', mode='w+')\n",
    "file.write(str(len(word_list)) + ' ' + str(dim) + '\\n')\n",
    "for idx, word in enumerate(word_list):\n",
    "    file.write(word + ' ')\n",
    "    file.write(' '.join(map(str, pca_sim_o[idx, :dim])))\n",
    "    file.write('\\n')\n",
    "file.close()"
   ]
  },
  {
   "cell_type": "code",
   "execution_count": 276,
   "metadata": {},
   "outputs": [
    {
     "name": "stdout",
     "output_type": "stream",
     "text": [
      "ref: fr-pos-wsrel.dataset---dim: 300---------------------\n"
     ]
    },
    {
     "name": "stderr",
     "output_type": "stream",
     "text": [
      "/home/sying/root/anaconda3/envs/micipsa/lib/python3.6/site-packages/gensim/matutils.py:737: FutureWarning: Conversion of the second argument of issubdtype from `int` to `np.signedinteger` is deprecated. In future, it will be treated as `np.int64 == np.dtype(int).type`.\n",
      "  if np.issubdtype(vec.dtype, np.int):\n"
     ]
    },
    {
     "name": "stdout",
     "output_type": "stream",
     "text": [
      "Pearson, r 0.10390990957941862 p 0.10613322593026263\n",
      "Spearman, r 0.051152611689551944 p 0.4273126934361545\n",
      "ref: fr-pos-simlex.dataset---dim: 300---------------------\n",
      "Pearson, r 0.32910498528693743 p 5.571000169726239e-25\n",
      "Spearman, r 0.2812101536274285 p 2.1215623361628103e-18\n"
     ]
    }
   ],
   "source": [
    "ref_model = [\"fr-pos-wsrel.dataset\", \"fr-pos-simlex.dataset\"]\n",
    "\n",
    "model = gensim.models.KeyedVectors.load_word2vec_format(root_path + 'sim_15k_634d.txt', binary=False)\n",
    "for ref in ref_model:\n",
    "    print (\"ref: %s---dim: %d---------------------\"%(ref, dim))\n",
    "    refp = \"/home/sying/Documents/WordNetEmbeddings/data/input/French_testset/\" + ref\n",
    "    res = model.evaluate_word_pairs(refp, delimiter=';')\n",
    "    print(\"Pearson, r\", res[0][0], 'p', res[0][1])\n",
    "    print(\"Spearman, r\", res[1][0], 'p', res[1][1])     \n",
    "    # print(\"OOV\", res[2])        "
   ]
  },
  {
   "cell_type": "markdown",
   "metadata": {},
   "source": [
    "# Decorrelation"
   ]
  },
  {
   "cell_type": "code",
   "execution_count": null,
   "metadata": {},
   "outputs": [],
   "source": []
  },
  {
   "cell_type": "code",
   "execution_count": 10,
   "metadata": {},
   "outputs": [],
   "source": [
    "dim_sim_eng = 511\n",
    "lang = 'English'\n",
    "root_path = '/home/sying/Documents/Decorrelation/' + lang + '/'\n",
    "dim = dim_sim_eng\n",
    "word_list = np.load('/home/sying/Documents/WordNetEmbeddings/data/output_230119/word_list.npy')\n",
    "vocabulary = {value: idx for idx, value in enumerate(word_list)}"
   ]
  },
  {
   "cell_type": "code",
   "execution_count": 11,
   "metadata": {},
   "outputs": [],
   "source": [
    "file = open(root_path + 'sim_15k_511d.txt', mode='r')\n",
    "file_data = file.readlines()\n",
    "file.close()\n",
    "voc, dim = file_data[0].split()\n",
    "sim_model = np.zeros((int(voc), int(dim)), dtype=np.float32)"
   ]
  },
  {
   "cell_type": "code",
   "execution_count": 12,
   "metadata": {},
   "outputs": [],
   "source": [
    "for idx, line in enumerate(file_data[1:]):\n",
    "    data = line.split()\n",
    "    sim_model[idx, :] = data[1:] "
   ]
  },
  {
   "cell_type": "code",
   "execution_count": 13,
   "metadata": {},
   "outputs": [],
   "source": [
    "if lang == 'French':\n",
    "    file = open(mix_model_path, mode='r', encoding=\"cp1252\")\n",
    "if lang == 'English':\n",
    "    file = open(mix_model_path, mode='r')\n",
    "file_data = file.readlines()\n",
    "file.close()"
   ]
  },
  {
   "cell_type": "code",
   "execution_count": 14,
   "metadata": {},
   "outputs": [],
   "source": [
    "word_list = np.load('/home/sying/Documents/WordNetEmbeddings/data/output_230119/word_list.npy')"
   ]
  },
  {
   "cell_type": "code",
   "execution_count": 15,
   "metadata": {},
   "outputs": [],
   "source": [
    "dim_mix_eng = int(file_data[0].split()[1])\n",
    "mix_model = np.zeros((len(word_list), dim_mix_eng), dtype=np.float32)"
   ]
  },
  {
   "cell_type": "code",
   "execution_count": 16,
   "metadata": {},
   "outputs": [],
   "source": [
    "for line in file_data[1:]:\n",
    "    data = line.split()\n",
    "    if data[0] in vocabulary:\n",
    "        idx = vocabulary.pop(data[0])\n",
    "        mix_model[idx, :] = data[1:]"
   ]
  },
  {
   "cell_type": "code",
   "execution_count": 17,
   "metadata": {},
   "outputs": [],
   "source": [
    "vocabulary_mask = np.ones(int(voc), dtype=np.bool)\n",
    "vocabulary_mask[list(vocabulary.values())] = 0\n",
    "\n",
    "sim_model_red = sim_model[vocabulary_mask,:]\n",
    "mix_model_red = mix_model[vocabulary_mask,:]"
   ]
  },
  {
   "cell_type": "code",
   "execution_count": 170,
   "metadata": {},
   "outputs": [
    {
     "data": {
      "text/plain": [
       "(8157, 300)"
      ]
     },
     "execution_count": 170,
     "metadata": {},
     "output_type": "execute_result"
    }
   ],
   "source": [
    "asn_model_red.shape"
   ]
  },
  {
   "cell_type": "code",
   "execution_count": 19,
   "metadata": {},
   "outputs": [
    {
     "data": {
      "text/plain": [
       "(8157, 511)"
      ]
     },
     "execution_count": 19,
     "metadata": {},
     "output_type": "execute_result"
    }
   ],
   "source": [
    "sim_model_red.shape"
   ]
  },
  {
   "cell_type": "code",
   "execution_count": 180,
   "metadata": {},
   "outputs": [
    {
     "data": {
      "text/plain": [
       "(15000, 15000)"
      ]
     },
     "execution_count": 180,
     "metadata": {},
     "output_type": "execute_result"
    }
   ],
   "source": [
    "len(vocabulary_mask), len(word_list)"
   ]
  },
  {
   "cell_type": "code",
   "execution_count": 174,
   "metadata": {},
   "outputs": [
    {
     "ename": "IndexError",
     "evalue": "boolean index did not match indexed array along dimension 0; dimension is 4385 but corresponding boolean dimension is 15000",
     "output_type": "error",
     "traceback": [
      "\u001b[0;31m---------------------------------------------------------------------------\u001b[0m",
      "\u001b[0;31mIndexError\u001b[0m                                Traceback (most recent call last)",
      "\u001b[0;32m<ipython-input-174-57572354028a>\u001b[0m in \u001b[0;36m<module>\u001b[0;34m\u001b[0m\n\u001b[0;32m----> 1\u001b[0;31m \u001b[0mnp\u001b[0m\u001b[0;34m.\u001b[0m\u001b[0marray\u001b[0m\u001b[0;34m(\u001b[0m\u001b[0mword_list\u001b[0m\u001b[0;34m)\u001b[0m\u001b[0;34m[\u001b[0m\u001b[0mvocabulary_mask\u001b[0m\u001b[0;34m]\u001b[0m\u001b[0;34m\u001b[0m\u001b[0m\n\u001b[0m",
      "\u001b[0;31mIndexError\u001b[0m: boolean index did not match indexed array along dimension 0; dimension is 4385 but corresponding boolean dimension is 15000"
     ]
    }
   ],
   "source": [
    "np.array(word_list)[vocabulary_mask]"
   ]
  },
  {
   "cell_type": "code",
   "execution_count": 181,
   "metadata": {},
   "outputs": [
    {
     "name": "stdout",
     "output_type": "stream",
     "text": [
      "Model mapping score:  0.16618268456109642\n"
     ]
    }
   ],
   "source": [
    "# Linear Decorrelation by projecting A emb. onto B emb.\n",
    "dim_mix = dim_mix_eng\n",
    "reg = linear_model.LinearRegression()\n",
    "reg.fit(sim_model_red, mix_model_red)\n",
    "score = reg.score(sim_model_red, mix_model_red)\n",
    "print(\"Model mapping score: \", score)\n",
    "\n",
    "asn_model_red = mix_model_red - reg.predict(sim_model_red)\n",
    "word_list = [word_list[i] for i in range(len(word_list)) if vocabulary_mask[i]]\n",
    "file = open(asn_model_path, mode='w')\n",
    "file.write('{} {}\\n'.format(len(word_list), dim_mix))\n",
    "asn_model_df = pd.DataFrame(asn_model_red, index=word_list)\n",
    "file.write(asn_model_df.to_csv(sep=' ', header=False))\n",
    "file.close()\n",
    "\n",
    "file = open(sig_model_path, mode='w')\n",
    "file.write('{} {}\\n'.format(len(word_list), dim_mix))\n",
    "sig_model_red = reg.predict(sim_model_red)\n",
    "sig_model_df = pd.DataFrame(sig_model_red, index=word_list)\n",
    "file.write(sig_model_df.to_csv(sep=' ', header=False))\n",
    "file.close()\n"
   ]
  },
  {
   "cell_type": "markdown",
   "metadata": {},
   "source": [
    "# De correlation check"
   ]
  },
  {
   "cell_type": "code",
   "execution_count": 155,
   "metadata": {},
   "outputs": [],
   "source": [
    "# sim_model =  pd.read_csv('./French_POS/sim_56k_634d.txt', sep=' ', header=None, skiprows=1, index_col=0)\n",
    "sim_model = pd.read_csv('./English/sim_15k_511d.txt', sep=' ', header=None, skiprows=1, index_col=0)"
   ]
  },
  {
   "cell_type": "code",
   "execution_count": 7,
   "metadata": {},
   "outputs": [],
   "source": [
    "sig_model = pd.read_csv('./English/sig_embedding_511.txt', sep=' ', header=None, skiprows=1, index_col=0)"
   ]
  },
  {
   "cell_type": "code",
   "execution_count": 112,
   "metadata": {},
   "outputs": [],
   "source": [
    "# asn_model = pd.read_csv('./English/asn_embedding_511.txt', sep=' ', header=None, skiprows=1, index_col=0)\n",
    "asn_model = pd.read_csv('./French_POS/asn_embedding_24519.txt', sep=' ', header=None, skiprows=1, index_col=0)"
   ]
  },
  {
   "cell_type": "code",
   "execution_count": 156,
   "metadata": {},
   "outputs": [],
   "source": [
    "pca = PCA(n_components=200, svd_solver='randomized')\n",
    "#asn_model_pca = pca.fit_transform(asn_model)\n",
    "sim_model_pca = pca.fit_transform(sim_model)\n",
    "#pca_mix_o = pca.fit_transform(sig_model)"
   ]
  },
  {
   "cell_type": "code",
   "execution_count": 70,
   "metadata": {},
   "outputs": [],
   "source": [
    "from mpl_toolkits.mplot3d import Axes3D"
   ]
  },
  {
   "cell_type": "code",
   "execution_count": 84,
   "metadata": {},
   "outputs": [],
   "source": [
    "%matplotlib inline"
   ]
  },
  {
   "cell_type": "code",
   "execution_count": 152,
   "metadata": {},
   "outputs": [
    {
     "name": "stderr",
     "output_type": "stream",
     "text": [
      "/home/sying/root/anaconda3/envs/micipsa/lib/python3.6/site-packages/matplotlib/font_manager.py:1331: UserWarning: findfont: Font family ['serif'] not found. Falling back to DejaVu Sans\n",
      "  (prop.get_family(), self.defaultFamily[fontext]))\n"
     ]
    },
    {
     "data": {
      "image/png": "[encoded data removed]",
      "text/plain": [
       "<Figure size 251.28x251.28 with 1 Axes>"
      ]
     },
     "metadata": {
      "needs_background": "light"
     },
     "output_type": "display_data"
    }
   ],
   "source": [
    "key_word = 'marcher_v'\n",
    "key_word_title = r'marcher\\_v'\n",
    "key_index = asn_model.index.get_loc(key_word)\n",
    "fig = plt.figure(figsize=(3.49, 3.49))\n",
    "\n",
    "ax = Axes3D(fig) # Method 1\n",
    "\n",
    "plt.axis('off')\n",
    "max_val = asn_model_pca.max()\n",
    "ax.plot([0, max_val], [0, 0], [0, 0], c='r', zorder=1)\n",
    "ax.plot([0, 0], [0, max_val], [0, 0], c='y', zorder=1)\n",
    "ax.plot([0, 0], [0, 0], [0, max_val], c='b', zorder=1)\n",
    "score = asn_model.corrwith(asn_model.loc[key_word], axis=1)\n",
    "ax.scatter(asn_model_pca[key_index, 0], asn_model_pca[key_index, 1], asn_model_pca[key_index, 2], c='r', marker='o', s=400, zorder=-1)\n",
    "\n",
    "ax.scatter(asn_model_pca[:, 0], asn_model_pca[:, 1], asn_model_pca[:, 2], c=np.log10(score.values + 2), marker='o', s=3, zorder=2)\n",
    "plt.title(r'French \\texttt{ASN}: \\emph{%s}' % key_word_title, fontsize=10)\n",
    "plt.show()\n",
    "fig.savefig(\"FreASNPCAfor{}.pdf\".format(key_word), bbox_inches='tight')"
   ]
  },
  {
   "cell_type": "code",
   "execution_count": 149,
   "metadata": {},
   "outputs": [
    {
     "name": "stderr",
     "output_type": "stream",
     "text": [
      "/home/sying/root/anaconda3/envs/micipsa/lib/python3.6/site-packages/matplotlib/font_manager.py:1331: UserWarning: findfont: Font family ['serif'] not found. Falling back to DejaVu Sans\n",
      "  (prop.get_family(), self.defaultFamily[fontext]))\n",
      "/home/sying/root/anaconda3/envs/micipsa/lib/python3.6/site-packages/matplotlib/font_manager.py:1331: UserWarning: findfont: Font family ['serif'] not found. Falling back to DejaVu Sans\n",
      "  (prop.get_family(), self.defaultFamily[fontext]))\n"
     ]
    },
    {
     "data": {
      "image/png": "[encoded data removed]",
      "text/plain": [
       "<Figure size 251.28x251.28 with 1 Axes>"
      ]
     },
     "metadata": {
      "needs_background": "light"
     },
     "output_type": "display_data"
    }
   ],
   "source": [
    "key_word = 'marcher_v'\n",
    "key_word_title = r'marcher\\_v'\n",
    "key_index = sim_model.index.get_loc(key_word)\n",
    "fig = plt.figure(figsize=(3.49, 3.49))\n",
    "\n",
    "ax = Axes3D(fig) # Method 1\n",
    "\n",
    "plt.axis('off')\n",
    "max_val = sim_model_pca.max()\n",
    "ax.plot([0, max_val], [0, 0], [0, 0], c='r', zorder=1)\n",
    "ax.plot([0, 0], [0, max_val], [0, 0], c='y', zorder=1)\n",
    "ax.plot([0, 0], [0, 0], [0, max_val], c='b', zorder=1)\n",
    "score = sim_model.corrwith(sim_model.loc[key_word], axis=1)\n",
    "ax.scatter(sim_model_pca[key_index, 0], sim_model_pca[key_index, 1], sim_model_pca[key_index, 2], c='r', marker='o', s=400, zorder=30)\n",
    "\n",
    "ax.scatter(sim_model_pca[:, 0], sim_model_pca[:, 1], sim_model_pca[:, 2], c=np.log10(score.values + 2), marker='o', s=3, zorder=2)\n",
    "plt.title(r'French \\texttt{SIM}: \\emph{%s}' % key_word_title, fontsize=10)\n",
    "plt.show()\n",
    "fig.savefig(\"FreSIMPCAfor{}.pdf\".format(key_word), bbox_inches='tight')"
   ]
  },
  {
   "cell_type": "code",
   "execution_count": 158,
   "metadata": {},
   "outputs": [
    {
     "name": "stderr",
     "output_type": "stream",
     "text": [
      "/home/sying/root/anaconda3/envs/micipsa/lib/python3.6/site-packages/matplotlib/font_manager.py:1331: UserWarning: findfont: Font family ['serif'] not found. Falling back to DejaVu Sans\n",
      "  (prop.get_family(), self.defaultFamily[fontext]))\n"
     ]
    },
    {
     "data": {
      "image/png": "[encoded data removed]",
      "text/plain": [
       "<Figure size 251.28x251.28 with 1 Axes>"
      ]
     },
     "metadata": {
      "needs_background": "light"
     },
     "output_type": "display_data"
    }
   ],
   "source": [
    "key_word = 'walk'\n",
    "key_word_title = r'walk'\n",
    "key_index = sim_model.index.get_loc(key_word)\n",
    "fig = plt.figure(figsize=(3.49, 3.49))\n",
    "\n",
    "ax = Axes3D(fig, azim=60) # Method 1\n",
    "\n",
    "plt.axis('off')\n",
    "max_val = sim_model_pca.max()\n",
    "ax.plot([0, max_val], [0, 0], [0, 0], c='r', zorder=1)\n",
    "ax.plot([0, 0], [0, max_val], [0, 0], c='y', zorder=1)\n",
    "ax.plot([0, 0], [0, 0], [0, max_val], c='b', zorder=1)\n",
    "score = sim_model.corrwith(sim_model.loc[key_word], axis=1)\n",
    "ax.scatter(sim_model_pca[key_index, 0], sim_model_pca[key_index, 1], sim_model_pca[key_index, 2], c='r', marker='o', s=400, zorder=30)\n",
    "\n",
    "ax.scatter(sim_model_pca[:, 0], sim_model_pca[:, 1], sim_model_pca[:, 2], c=np.log10(score.values + 2), marker='o', s=3, zorder=2)\n",
    "plt.title(r'English \\texttt{SIM}: \\emph{%s}' % key_word_title, fontsize=10)\n",
    "plt.show()\n",
    "fig.savefig(\"EngSIMPCAfor{}.pdf\".format(key_word), bbox_inches='tight')"
   ]
  },
  {
   "cell_type": "code",
   "execution_count": 68,
   "metadata": {},
   "outputs": [
    {
     "data": {
      "text/plain": [
       "(8157, 300)"
      ]
     },
     "execution_count": 68,
     "metadata": {},
     "output_type": "execute_result"
    }
   ],
   "source": [
    "asn_model_pca.shape"
   ]
  },
  {
   "cell_type": "code",
   "execution_count": 33,
   "metadata": {},
   "outputs": [
    {
     "name": "stderr",
     "output_type": "stream",
     "text": [
      "/home/sying/root/anaconda3/envs/micipsa/lib/python3.6/site-packages/matplotlib/font_manager.py:1331: UserWarning: findfont: Font family ['serif'] not found. Falling back to DejaVu Sans\n",
      "  (prop.get_family(), self.defaultFamily[fontext]))\n"
     ]
    },
    {
     "data": {
      "image/png": "[encoded data removed]",
      "text/plain": [
       "<Figure size 502.56x155.52 with 2 Axes>"
      ]
     },
     "metadata": {
      "needs_background": "light"
     },
     "output_type": "display_data"
    }
   ],
   "source": [
    "f, ax = plt.subplots(1, 2, figsize=(3.49 * 2, 2.16))\n",
    "\n",
    "ax[0].set_yscale('log')\n",
    "ax[1].set_yscale('log')\n",
    "#plt.plot(pca.explained_variance_)\n",
    "pca = PCA(n_components=300, svd_solver='full')\n",
    "pca.fit(sim_model_red)\n",
    "ax[0].plot(pca.explained_variance_, label='SIM')\n",
    "ax[1].plot(pca.explained_variance_ratio_, label='SIM')\n",
    "\n",
    "pca = PCA(n_components=300, svd_solver='full')\n",
    "pca.fit(mix_model_red)\n",
    "ax[0].plot(pca.explained_variance_, label='MIX')\n",
    "ax[1].plot(pca.explained_variance_ratio_, label='MIX')\n",
    "pca = PCA(n_components=300, svd_solver='full')\n",
    "pca.fit(sig_model)\n",
    "ax[0].plot(pca.explained_variance_, label='SIG')\n",
    "ax[1].plot(pca.explained_variance_ratio_, label='SIG')\n",
    "pca = PCA(n_components=300, svd_solver='full')\n",
    "pca.fit(asn_model)\n",
    "ax[0].plot(pca.explained_variance_, label='ASN')\n",
    "ax[1].plot(pca.explained_variance_ratio_, label='ASN')\n",
    "ax[1].legend(loc=1)\n",
    "ax[0].set_title(r'\\textbf{Explained Variance of PCs}', fontsize=10)\n",
    "ax[1].set_title(r'\\textbf{Explained Variance Ratio of PCs}', fontsize=10)\n",
    "ax[0].set_ylabel(r'log(Var)', fontsize=9)\n",
    "ax[0].set_xlabel(r'\\#th Component', fontsize=9)\n",
    "ax[1].set_ylabel(r'log(Ratio)', fontsize=9)\n",
    "ax[1].set_xlabel(r'\\#th Component', fontsize=9)\n",
    "ax[1].tick_params(axis='y', labelrotation=90)\n",
    "ax[0].tick_params(axis='y', labelrotation=90)\n",
    "#ax[0].set_yticklabels(ax[0].get_yticklabels(), =90)\n",
    "\n",
    "plt.show()\n",
    "\n",
    "f.savefig(\"EngDecorVarRatio.pdf\", bbox_inches='tight')"
   ]
  },
  {
   "cell_type": "code",
   "execution_count": 141,
   "metadata": {},
   "outputs": [],
   "source": [
    "score_evo = {\n",
    "    \"wordsim_rel.csv\": [],\n",
    "    \"simlex999.csv\": []\n",
    "}"
   ]
  },
  {
   "cell_type": "code",
   "execution_count": 187,
   "metadata": {},
   "outputs": [
    {
     "name": "stdout",
     "output_type": "stream",
     "text": [
      "ref: wordsim_rel.csv---dim: 300---------------------\n",
      "Pearson, r 0.18949474924783347 p 0.0028445584881911083\n",
      "Spearman, r 0.14511719472311646 p 0.022813367126772895\n",
      "ref: simlex999.csv---dim: 300---------------------\n",
      "Pearson, r 0.48136123997514774 p 5.863737693616017e-59\n",
      "Spearman, r 0.48918910654406567 p 4.111916841839331e-61\n"
     ]
    }
   ],
   "source": [
    "ref_model = [\"wordsim_rel.csv\", \"simlex999.csv\"]\n",
    "dim = 300\n",
    "\n",
    "model = gensim.models.KeyedVectors.load_word2vec_format(root_path + 'sig_embedding_511.txt', binary=False)\n",
    "for ref in ref_model:\n",
    "    print (\"ref: %s---dim: %d---------------------\"%(ref, dim))\n",
    "    refp = \"/home/sying/Documents/WordNetEmbeddings/data/input/English_testset/\" + ref\n",
    "    res = model.evaluate_word_pairs(refp, delimiter=';')\n",
    "    print(\"Pearson, r\", res[0][0], 'p', res[0][1])\n",
    "    print(\"Spearman, r\", res[1][0], 'p', res[1][1])     \n",
    "    # score_evo[ref].append(res[1][0])\n",
    "    # print(\"OOV\", res[2])        "
   ]
  },
  {
   "cell_type": "code",
   "execution_count": 188,
   "metadata": {},
   "outputs": [
    {
     "name": "stdout",
     "output_type": "stream",
     "text": [
      "ref: wordsim_rel.csv---dim: 300---------------------\n",
      "Pearson, r 0.5790335192055239 p 2.011894796738486e-23\n",
      "Spearman, r 0.6038706304620574 p 7.773393094275475e-26\n",
      "ref: simlex999.csv---dim: 300---------------------\n",
      "Pearson, r 0.25266392489131945 p 5.509214351226265e-16\n",
      "Spearman, r 0.253925714053347 p 3.9031256828536286e-16\n"
     ]
    }
   ],
   "source": [
    "model = gensim.models.KeyedVectors.load_word2vec_format(root_path + 'asn_embedding_511.txt', binary=False)\n",
    "for ref in ref_model:\n",
    "    print (\"ref: %s---dim: %d---------------------\"%(ref, dim))\n",
    "    refp = \"/home/sying/Documents/WordNetEmbeddings/data/input/English_testset/\" + ref\n",
    "    res = model.evaluate_word_pairs(refp, delimiter=';')\n",
    "    print(\"Pearson, r\", res[0][0], 'p', res[0][1])\n",
    "    print(\"Spearman, r\", res[1][0], 'p', res[1][1])     \n",
    "    #score_evo[ref].append(res[1][0])\n",
    "    # print(\"OOV\", res[2])        "
   ]
  },
  {
   "cell_type": "code",
   "execution_count": 135,
   "metadata": {},
   "outputs": [
    {
     "data": {
      "image/png": "[encoded data removed]",
      "text/plain": [
       "<Figure size 432x288 with 1 Axes>"
      ]
     },
     "metadata": {
      "needs_background": "light"
     },
     "output_type": "display_data"
    }
   ],
   "source": [
    "plt.plot(np.cumsum(pca_sig.explained_variance_ratio_), c='r')\n",
    "plt.plot(np.cumsum(pca_asn.explained_variance_ratio_), c='g')\n",
    "plt.show()"
   ]
  },
  {
   "cell_type": "markdown",
   "metadata": {},
   "source": [
    "# French Deco"
   ]
  },
  {
   "cell_type": "markdown",
   "metadata": {},
   "source": [
    "## Define key vocabulary items"
   ]
  },
  {
   "cell_type": "code",
   "execution_count": 34,
   "metadata": {},
   "outputs": [
    {
     "data": {
      "text/plain": [
       "'/home/sying/Documents/Decorrelation'"
      ]
     },
     "execution_count": 34,
     "metadata": {},
     "output_type": "execute_result"
    }
   ],
   "source": [
    "lang = 'French_POS'\n",
    "root_path = '/home/sying/Documents/Decorrelation/' + lang + '/'\n",
    "os.getcwd()"
   ]
  },
  {
   "cell_type": "code",
   "execution_count": 210,
   "metadata": {},
   "outputs": [],
   "source": [
    "lpp_path = root_path + 'lpp_wolf_tuned_vocab.txt'\n",
    "file = open(lpp_path, mode='r')\n",
    "file_data = file.read()\n",
    "lpp_voc = file_data.strip().split('\\n')\n",
    "lpp_voc = set(lpp_voc)"
   ]
  },
  {
   "cell_type": "code",
   "execution_count": 211,
   "metadata": {},
   "outputs": [],
   "source": [
    "lpp_path = '../Similarity-Association-Benchmarks/fr-pos-wsrel.dataset'\n",
    "wsrel_voc = pd.read_csv(lpp_path, delimiter=';', header=None).to_dict('list')\n",
    "wsrel_voc = set(wsrel_voc[0]).union(wsrel_voc[1])"
   ]
  },
  {
   "cell_type": "code",
   "execution_count": 212,
   "metadata": {},
   "outputs": [],
   "source": [
    "lpp_path = '../Similarity-Association-Benchmarks/fr-pos-simlex.dataset'\n",
    "simlex_voc = pd.read_csv(lpp_path, delimiter=';', header=None).to_dict('list')\n",
    "simlex_voc = set(simlex_voc[0]).union(simlex_voc[1])"
   ]
  },
  {
   "cell_type": "code",
   "execution_count": 213,
   "metadata": {},
   "outputs": [],
   "source": [
    "relevant_voc = lpp_voc.union(wsrel_voc).union(simlex_voc)"
   ]
  },
  {
   "cell_type": "code",
   "execution_count": 214,
   "metadata": {},
   "outputs": [
    {
     "data": {
      "text/plain": [
       "2402"
      ]
     },
     "execution_count": 214,
     "metadata": {},
     "output_type": "execute_result"
    }
   ],
   "source": [
    "len(relevant_voc)"
   ]
  },
  {
   "cell_type": "markdown",
   "metadata": {},
   "source": [
    "# Load Vocabularies"
   ]
  },
  {
   "cell_type": "code",
   "execution_count": 215,
   "metadata": {},
   "outputs": [],
   "source": [
    "wolf_voc = open(root_path+'vocabulary_pos_wolf.txt', mode='r').read().split('\\n')"
   ]
  },
  {
   "cell_type": "code",
   "execution_count": 216,
   "metadata": {},
   "outputs": [],
   "source": [
    "glove_voc_raw = open(root_path+'vocabulary_depglove.txt', mode='r', encoding='utf8').read().split('\\n')"
   ]
  },
  {
   "cell_type": "markdown",
   "metadata": {},
   "source": [
    "## Clean WOLF vocabulary"
   ]
  },
  {
   "cell_type": "code",
   "execution_count": 67,
   "metadata": {},
   "outputs": [],
   "source": [
    "latin_letters= {}\n",
    "\n",
    "def is_latin(uchr):\n",
    "    try: return latin_letters[uchr]\n",
    "    except KeyError:\n",
    "         return latin_letters.setdefault(uchr, 'LATIN' in ud.name(uchr))\n",
    "\n",
    "def only_roman_chars(unistr):\n",
    "    return all(is_latin(uchr)\n",
    "           for uchr in unistr\n",
    "           if uchr.isalpha()) # isalpha suggested by John Machin"
   ]
  },
  {
   "cell_type": "code",
   "execution_count": 112,
   "metadata": {},
   "outputs": [
    {
     "name": "stdout",
     "output_type": "stream",
     "text": [
      "ابوظبي_n not a regular form\n",
      "radioactivité_α_n not a regular form\n",
      "\tconverted to radioactivité_α_n\n",
      "grèbe_jougris|ko=큰논병아리|nl=roodhalsfuut_n not a regular form\n",
      "\tconverted to grèbe_jougris_n\n",
      "गुरु_n not a regular form\n",
      "Nay_نای_n not a regular form\n",
      "capucin|ja=オマキザル属|lt=kapucinas|nl=kapucijnapen_n not a regular form\n",
      "\tconverted to capucin_n\n",
      "α_Virginis_n not a regular form\n",
      "\tconverted to α_Virginis_n\n",
      "particule_α_n not a regular form\n",
      "\tconverted to particule_α_n\n",
      "دبي_n not a regular form\n",
      "acide_α-linolénique_n not a regular form\n",
      "\tconverted to acide_α-linolénique_n\n",
      "poirier_commun|pl=grusza_pospolita|uk=груша_звичайна_n not a regular form\n",
      "\tconverted to poirier_commun_n\n",
      "β-bloquant_n not a regular form\n",
      "\tconverted to β-bloquant_n\n",
      "radioactivité_β_n not a regular form\n",
      "\tconverted to radioactivité_β_n\n",
      "gerbille|ja=スナネズミ|nl=gerbils|pl=myszoskoczki_n not a regular form\n",
      "\tconverted to gerbille_n\n",
      "в_n not a regular form\n",
      "حماس_n not a regular form\n",
      "nèfle|lt=šliandra|os=мугæ_n not a regular form\n",
      "\tconverted to nèfle_n\n",
      "к_n not a regular form\n",
      "squamates|ja=トカゲ目_n not a regular form\n",
      "\tconverted to squamates_n\n",
      "particule_β_n not a regular form\n",
      "\tconverted to particule_β_n\n",
      "néflier_du_japon|ja=ビワ|nl=loquat|pt=nêspera_n not a regular form\n",
      "\tconverted to néflier_du_japon_n\n"
     ]
    }
   ],
   "source": [
    "wolf_voc_set = set()\n",
    "for word in sim_voc_list:\n",
    "    if only_roman_chars(word):\n",
    "        wolf_voc_set.add(word)\n",
    "    else:\n",
    "        print(word, 'not a regular form')\n",
    "        if word in sim_voc_roman_dict:\n",
    "            print('\\tconverted to', sim_voc_roman_dict[word])\n",
    "            wolf_voc_set.add(sim_voc_roman_dict[word])"
   ]
  },
  {
   "cell_type": "code",
   "execution_count": 217,
   "metadata": {},
   "outputs": [],
   "source": [
    "sim_voc_roman_dict = {\"grèbe_jougris|ko=큰논병아리|nl=roodhalsfuut_n\": \"grèbe_jougris_n\", \n",
    "                      \"capucin|ja=オマキザル属|lt=kapucinas|nl=kapucijnapen_n\": \"capucin_n\", \n",
    "                      \"poirier_commun|pl=grusza_pospolita|uk=груша_звичайна_n\": \"poirier_commun_n\",\n",
    "                      \"gerbille|ja=スナネズミ|nl=gerbils|pl=myszoskoczki_n\": \"gerbille_n\",\n",
    "                      \"nèfle|lt=šliandra|os=мугæ_n\": \"nèfle_n\",\n",
    "                      \"squamates|ja=トカゲ目_n\": \"squamates_n\",\n",
    "                      \"néflier_du_japon|ja=ビワ|nl=loquat|pt=nêspera_n\": \"néflier_du_japon_n\",\n",
    "                      \"radioactivité_α_n\": \"radioactivité_α_n\",\n",
    "                      \"α_Virginis_n\": \"α_Virginis_n\",\n",
    "                      \"particule_α_n\": \"particule_α_n\",\n",
    "                      \"acide_α-linolénique_n\": \"acide_α-linolénique_n\",\n",
    "                      \"β-bloquant_n\": \"β-bloquant_n\",\n",
    "                      \"radioactivité_β_n\": \"radioactivité_β_n\",\n",
    "                      \"particule_β_n\": \"particule_β_n\"\n",
    "                     }\n",
    "\n",
    "for key in sim_voc_roman_dict:\n",
    "    wolf_voc.remove(key)\n",
    "    wolf_voc.append(sim_voc_roman_dict[key])"
   ]
  },
  {
   "cell_type": "markdown",
   "metadata": {},
   "source": [
    "## Reject function words"
   ]
  },
  {
   "cell_type": "code",
   "execution_count": 218,
   "metadata": {},
   "outputs": [],
   "source": [
    "glove_acc_pos = {\n",
    "    'np', 'nc', 'adj', 'v', 'adv', 'title', 'advneg', 'number'\n",
    "}\n",
    "glove_rej_pos = {\n",
    "     'coo', 'ncpred', 'pres', 'prep', 'csu', 'adjPref', 'advPref', '', 'predet', \n",
    "    'det', 'pro', 'poncts', 'clr', 'ponctw', 'advneg', 'pri', 'prel', 'suffAdj', \n",
    "    'ce', 'cln', 'aux', 'que', 'clg', 'clneg', 'N2', 'xpro', 'ilimp', 'restr', 'cld', 'cll', 'cla'\n",
    "}"
   ]
  },
  {
   "cell_type": "code",
   "execution_count": 219,
   "metadata": {},
   "outputs": [],
   "source": [
    "glove_voc = list()\n",
    "for raw in glove_voc_raw:\n",
    "    if raw.rsplit('_', 1)[1] in glove_acc_pos:\n",
    "        glove_voc.append(raw)"
   ]
  },
  {
   "cell_type": "code",
   "execution_count": 220,
   "metadata": {},
   "outputs": [
    {
     "data": {
      "text/plain": [
       "(56665, 160879, 163003)"
      ]
     },
     "execution_count": 220,
     "metadata": {},
     "output_type": "execute_result"
    }
   ],
   "source": [
    "len(wolf_voc), len(glove_voc), len(glove_voc_raw)"
   ]
  },
  {
   "cell_type": "markdown",
   "metadata": {},
   "source": [
    "# Word Alignment in two embeddings"
   ]
  },
  {
   "cell_type": "markdown",
   "metadata": {},
   "source": [
    "## POS translator"
   ]
  },
  {
   "cell_type": "code",
   "execution_count": 221,
   "metadata": {},
   "outputs": [],
   "source": [
    "pos_dict = {\n",
    "    'np': 'n', 'nc': 'n',\n",
    "    'adj': 'a', 'v': 'v',\n",
    "    'adv': 'b', 'title': 'n',\n",
    "    'advneg': 'b', 'number': 'a'\n",
    "}"
   ]
  },
  {
   "cell_type": "markdown",
   "metadata": {},
   "source": [
    "## Word Mapping from GloVe to WOLF"
   ]
  },
  {
   "cell_type": "markdown",
   "metadata": {},
   "source": [
    "### Transform WOLF vocabulary for inquery"
   ]
  },
  {
   "cell_type": "code",
   "execution_count": 222,
   "metadata": {},
   "outputs": [],
   "source": [
    "wolf_voc_dict = dict()\n",
    "for word_pos in wolf_voc:\n",
    "    word, pos = word_pos.rsplit('_', 1)\n",
    "    if word in wolf_voc_dict:\n",
    "        wolf_voc_dict[word].update(pos)\n",
    "    else:\n",
    "        wolf_voc_dict[word] = set(pos)"
   ]
  },
  {
   "cell_type": "code",
   "execution_count": 223,
   "metadata": {},
   "outputs": [],
   "source": [
    "wolf_case_fusion = list()\n",
    "for word in list(wolf_voc_dict.keys()):\n",
    "    if word != word.lower():\n",
    "        if word.lower() not in wolf_voc_dict:\n",
    "            wolf_voc_dict[word.lower()] = word\n",
    "        else:\n",
    "            wolf_case_fusion.append((word, wolf_voc_dict[word]))"
   ]
  },
  {
   "cell_type": "code",
   "execution_count": 224,
   "metadata": {},
   "outputs": [
    {
     "data": {
      "text/plain": [
       "4000"
      ]
     },
     "execution_count": 224,
     "metadata": {},
     "output_type": "execute_result"
    }
   ],
   "source": [
    "len(wolf_case_fusion)"
   ]
  },
  {
   "cell_type": "markdown",
   "metadata": {},
   "source": [
    "### Map GloVe to WOLF one by one"
   ]
  },
  {
   "cell_type": "code",
   "execution_count": 225,
   "metadata": {},
   "outputs": [],
   "source": [
    "glove2wolf = dict()\n",
    "glove_pos_no_match = list()\n",
    "glove_word_no_match = list()\n",
    "\n",
    "for word_pos in glove_voc:\n",
    "    word, pos = word_pos.rsplit('_', 1)\n",
    "    label = ''\n",
    "    pos = pos_dict[pos]\n",
    "    if ':' in word:\n",
    "        word, label = word.rsplit(':', 1)\n",
    "    if word in wolf_voc_dict:\n",
    "        if isinstance(wolf_voc_dict[word], str):\n",
    "            word = wolf_voc_dict[word]\n",
    "        if pos in wolf_voc_dict[word]:\n",
    "            glove2wolf[word_pos] = word + '_' + pos\n",
    "        else:\n",
    "            glove_pos_no_match.append((word_pos, word, wolf_voc_dict[word]))\n",
    "    else:\n",
    "        glove_word_no_match.append(word_pos)"
   ]
  },
  {
   "cell_type": "code",
   "execution_count": 226,
   "metadata": {},
   "outputs": [
    {
     "data": {
      "text/plain": [
       "(3068, 128305, 29506, 56665)"
      ]
     },
     "execution_count": 226,
     "metadata": {},
     "output_type": "execute_result"
    }
   ],
   "source": [
    "len(glove_pos_no_match), len(glove_word_no_match), len(glove2wolf), len(wolf_voc)"
   ]
  },
  {
   "cell_type": "markdown",
   "metadata": {},
   "source": [
    "### Manual Resolution of Unmatched Terms"
   ]
  },
  {
   "cell_type": "code",
   "execution_count": 155,
   "metadata": {},
   "outputs": [],
   "source": [
    "#file = open(root_path + 'g2w_manual.csv', mode='w+')\n",
    "#file.write('\\n'.join(lpp_voc.difference(glove2wolf.values()).difference(lpp_voc.difference(wolf_voc))))\n",
    "#file.close()"
   ]
  },
  {
   "cell_type": "code",
   "execution_count": 228,
   "metadata": {},
   "outputs": [
    {
     "data": {
      "text/plain": [
       "(191, 70)"
      ]
     },
     "execution_count": 228,
     "metadata": {},
     "output_type": "execute_result"
    }
   ],
   "source": [
    "len(lpp_voc.difference(glove2wolf.values())), len(set(wsrel_voc).union(simlex_voc).difference(glove2wolf.values()))"
   ]
  },
  {
   "cell_type": "code",
   "execution_count": 243,
   "metadata": {},
   "outputs": [],
   "source": [
    "manual_correction = pd.read_csv(root_path + 'g2w_manual.csv', header=None).dropna()"
   ]
  },
  {
   "cell_type": "code",
   "execution_count": 244,
   "metadata": {},
   "outputs": [],
   "source": [
    "manual_correction = manual_correction.set_index(1).to_dict()[0]"
   ]
  },
  {
   "cell_type": "code",
   "execution_count": 245,
   "metadata": {},
   "outputs": [
    {
     "data": {
      "text/plain": [
       "{'accorder_v',\n",
       " 'coucher_v',\n",
       " 'demain_adv',\n",
       " 'huit_nc',\n",
       " 'ici_adv',\n",
       " 'loin_adv',\n",
       " 'lune_nc',\n",
       " 'occuper_v',\n",
       " 'oiseau_nc',\n",
       " 'orgueilleux_adj',\n",
       " 'petit-déjeuner_nc',\n",
       " 'plonger_v',\n",
       " 'public_adj',\n",
       " 'quarante_nc',\n",
       " 'reposer_v',\n",
       " 'souvenir_v',\n",
       " 'surprise_adj',\n",
       " 'taire_v',\n",
       " 'tenir_v',\n",
       " 'terre_nc',\n",
       " 'trouver_v',\n",
       " 'vider_v',\n",
       " 'vingt_nc'}"
      ]
     },
     "execution_count": 245,
     "metadata": {},
     "output_type": "execute_result"
    }
   ],
   "source": [
    "set(manual_correction.keys()).intersection(glove2wolf.keys())"
   ]
  },
  {
   "cell_type": "markdown",
   "metadata": {},
   "source": [
    "# Get Embeddings"
   ]
  },
  {
   "cell_type": "code",
   "execution_count": 93,
   "metadata": {},
   "outputs": [],
   "source": [
    "file = open(root_path + 'sim_56k_634d.txt', mode='r')\n",
    "file_data = file.readlines()\n",
    "wolf_emb = dict()\n",
    "\n",
    "for line in file_data[1:]:\n",
    "    data = line.split()\n",
    "    wolf_emb[data[0]] = np.array(data[1:])"
   ]
  },
  {
   "cell_type": "code",
   "execution_count": 94,
   "metadata": {},
   "outputs": [],
   "source": [
    "sim_voc_roman_dict = {\"grèbe_jougris|ko=큰논병아리|nl=roodhalsfuut_n\": \"grèbe_jougris_n\", \n",
    "                      \"capucin|ja=オマキザル属|lt=kapucinas|nl=kapucijnapen_n\": \"capucin_n\", \n",
    "                      \"poirier_commun|pl=grusza_pospolita|uk=груша_звичайна_n\": \"poirier_commun_n\",\n",
    "                      \"gerbille|ja=スナネズミ|nl=gerbils|pl=myszoskoczki_n\": \"gerbille_n\",\n",
    "                      \"nèfle|lt=šliandra|os=мугæ_n\": \"nèfle_n\",\n",
    "                      \"squamates|ja=トカゲ目_n\": \"squamates_n\",\n",
    "                      \"néflier_du_japon|ja=ビワ|nl=loquat|pt=nêspera_n\": \"néflier_du_japon_n\",\n",
    "                      \"radioactivité_α_n\": \"radioactivité_α_n\",\n",
    "                      \"α_Virginis_n\": \"α_Virginis_n\",\n",
    "                      \"particule_α_n\": \"particule_α_n\",\n",
    "                      \"acide_α-linolénique_n\": \"acide_α-linolénique_n\",\n",
    "                      \"β-bloquant_n\": \"β-bloquant_n\",\n",
    "                      \"radioactivité_β_n\": \"radioactivité_β_n\",\n",
    "                      \"particule_β_n\": \"particule_β_n\"\n",
    "                     }\n",
    "\n",
    "for key in sim_voc_roman_dict:\n",
    "    tmp = wolf_emb.pop(key)\n",
    "    wolf_emb[sim_voc_roman_dict[key]] = tmp"
   ]
  },
  {
   "cell_type": "code",
   "execution_count": 261,
   "metadata": {},
   "outputs": [],
   "source": [
    "file = open(root_path + 'depglove_200d_eric.txt', mode='r', encoding='iso8859-1')\n",
    "file_data = file.readlines()\n",
    "depgl_emb = dict()\n",
    "\n",
    "for line in file_data[2:]:\n",
    "    data = line.split()\n",
    "    depgl_emb[data[0]] = np.array(data[1:])"
   ]
  },
  {
   "cell_type": "code",
   "execution_count": 250,
   "metadata": {},
   "outputs": [],
   "source": [
    "mix_vocabulary = sorted(glove2wolf.keys()) \n",
    "sim_vocabulary = [glove2wolf[key] for key in mix_vocabulary]\n",
    "mix_vocabulary_2 = sorted(manual_correction.keys())\n",
    "sim_vocabulary += [manual_correction[key] for key in mix_vocabulary_2]\n",
    "mix_vocabulary += mix_vocabulary_2"
   ]
  },
  {
   "cell_type": "code",
   "execution_count": 251,
   "metadata": {},
   "outputs": [
    {
     "data": {
      "text/plain": [
       "29552"
      ]
     },
     "execution_count": 251,
     "metadata": {},
     "output_type": "execute_result"
    }
   ],
   "source": [
    "len(mix_vocabulary)"
   ]
  },
  {
   "cell_type": "code",
   "execution_count": null,
   "metadata": {},
   "outputs": [],
   "source": [
    "sim_model_fr = np.zeros((len(sim_vocabulary), 634), dtype=np.float32)\n",
    "mix_model_fr = np.zeros((len(mix_vocabulary), 200), dtype=np.float32)"
   ]
  },
  {
   "cell_type": "code",
   "execution_count": 279,
   "metadata": {},
   "outputs": [],
   "source": [
    "file = open(root_path + 'mix_embedding.txt', mode='w+')\n",
    "file.write('{} {}\\n'.format(len(sim_vocabulary), dim_mix))\n",
    "mix_model_df = pd.DataFrame(mix_model_fr, index=sim_vocabulary)\n",
    "file.write(mix_model_df.to_csv(sep=' ', header=False))\n",
    "file.close()"
   ]
  },
  {
   "cell_type": "code",
   "execution_count": 269,
   "metadata": {},
   "outputs": [],
   "source": [
    "for idx, item in enumerate(mix_vocabulary):\n",
    "    mix_model_fr[idx,:] = depgl_emb[item]"
   ]
  },
  {
   "cell_type": "code",
   "execution_count": 272,
   "metadata": {},
   "outputs": [],
   "source": [
    "for idx, item in enumerate(sim_vocabulary):\n",
    "    sim_model_fr[idx,:] = wolf_emb[item]"
   ]
  },
  {
   "cell_type": "code",
   "execution_count": 274,
   "metadata": {},
   "outputs": [
    {
     "name": "stdout",
     "output_type": "stream",
     "text": [
      "Model mapping score:  0.0775863309036778\n"
     ]
    }
   ],
   "source": [
    "# Linear Decorrelation by projecting A emb. onto B emb.\n",
    "dim_mix = 200\n",
    "reg = linear_model.LinearRegression()\n",
    "reg.fit(sim_model_fr, mix_model_fr)\n",
    "score = reg.score(sim_model_fr, mix_model_fr)\n",
    "print(\"Model mapping score: \", score)\n",
    "\n",
    "asn_model_fr = mix_model_fr - reg.predict(sim_model_fr)\n",
    "\n",
    "asn_model_path = root_path + 'asn_embedding.txt'\n",
    "sig_model_path = root_path + 'sig_embedding.txt'\n",
    "\n",
    "file = open(asn_model_path, mode='w')\n",
    "file.write('{} {}\\n'.format(len(sim_vocabulary), dim_mix))\n",
    "asn_model_df = pd.DataFrame(asn_model_fr, index=sim_vocabulary)\n",
    "file.write(asn_model_df.to_csv(sep=' ', header=False))\n",
    "file.close()\n",
    "\n",
    "file = open(sig_model_path, mode='w')\n",
    "file.write('{} {}\\n'.format(len(sim_vocabulary), dim_mix))\n",
    "sig_model_fr = reg.predict(sim_model_fr)\n",
    "sig_model_df = pd.DataFrame(sig_model_fr, index=sim_vocabulary)\n",
    "file.write(sig_model_df.to_csv(sep=' ', header=False))\n",
    "file.close()\n"
   ]
  },
  {
   "cell_type": "code",
   "execution_count": null,
   "metadata": {},
   "outputs": [],
   "source": []
  },
  {
   "cell_type": "code",
   "execution_count": 36,
   "metadata": {},
   "outputs": [],
   "source": [
    "asn_model_path = root_path + 'asn_embedding_24519.txt'\n",
    "sig_model_path = root_path + 'sig_embedding_24519.txt'\n",
    "mix_model_path = root_path + 'mix_embedding_24519.txt'"
   ]
  },
  {
   "cell_type": "code",
   "execution_count": 37,
   "metadata": {},
   "outputs": [],
   "source": [
    "asn_model = gensim.models.KeyedVectors.load_word2vec_format(asn_model_path, binary=False)\n",
    "sig_model = gensim.models.KeyedVectors.load_word2vec_format(sig_model_path, binary=False)\n",
    "mix_model = gensim.models.KeyedVectors.load_word2vec_format(mix_model_path, binary=False)\n"
   ]
  },
  {
   "cell_type": "code",
   "execution_count": 39,
   "metadata": {},
   "outputs": [],
   "source": [
    "sim_model_path = root_path + 'sim_56k_634d.txt'\n",
    "sim_model = gensim.models.KeyedVectors.load_word2vec_format(sim_model_path, binary=False)"
   ]
  },
  {
   "cell_type": "code",
   "execution_count": 49,
   "metadata": {},
   "outputs": [],
   "source": [
    "sim_model_fr = np.zeros((len(mix_model.vocab), 634), dtype=np.float32)"
   ]
  },
  {
   "cell_type": "code",
   "execution_count": 50,
   "metadata": {},
   "outputs": [],
   "source": [
    "for word in mix_model.vocab:\n",
    "    sim_model_fr[mix_model.vocab[word].index, :] = sim_model.get_vector(word)"
   ]
  },
  {
   "cell_type": "code",
   "execution_count": 53,
   "metadata": {},
   "outputs": [
    {
     "data": {
      "text/plain": [
       "array([[ 0.01142944, -0.03304887, -0.09594161, ..., -0.05791499,\n",
       "         0.07295994,  0.0768252 ],\n",
       "       [ 0.12964958,  0.1009371 ,  0.00147878, ...,  0.15458694,\n",
       "         0.1437648 , -0.02615431],\n",
       "       [-0.00017209,  0.07170885,  0.02404041, ...,  0.03800546,\n",
       "         0.02421865, -0.1307854 ],\n",
       "       ...,\n",
       "       [ 0.14384538, -0.07389604, -0.05835674, ...,  0.06673283,\n",
       "         0.00932695,  0.00575814],\n",
       "       [ 0.01797619,  0.10431927,  0.02270921, ..., -0.02834896,\n",
       "         0.11485175,  0.08008742],\n",
       "       [-0.01024459,  0.08115701,  0.03777497, ...,  0.06349399,\n",
       "        -0.03186531,  0.08818067]], dtype=float32)"
      ]
     },
     "execution_count": 53,
     "metadata": {},
     "output_type": "execute_result"
    }
   ],
   "source": [
    "mix_model.vectors"
   ]
  },
  {
   "cell_type": "code",
   "execution_count": 56,
   "metadata": {},
   "outputs": [
    {
     "name": "stderr",
     "output_type": "stream",
     "text": [
      "/home/sying/root/anaconda3/envs/micipsa/lib/python3.6/site-packages/matplotlib/font_manager.py:1331: UserWarning: findfont: Font family ['serif'] not found. Falling back to DejaVu Sans\n",
      "  (prop.get_family(), self.defaultFamily[fontext]))\n"
     ]
    },
    {
     "data": {
      "image/png": "[encoded data removed]",
      "text/plain": [
       "<Figure size 502.56x155.52 with 2 Axes>"
      ]
     },
     "metadata": {
      "needs_background": "light"
     },
     "output_type": "display_data"
    }
   ],
   "source": [
    "f, ax = plt.subplots(1, 2, figsize=(3.49 * 2, 2.16))\n",
    "\n",
    "ax[0].set_yscale('log')\n",
    "ax[1].set_yscale('log')\n",
    "#plt.plot(pca.explained_variance_)\n",
    "pca = PCA(n_components=200, svd_solver='full')\n",
    "pca.fit(sim_model_fr)\n",
    "ax[0].plot(pca.explained_variance_, label='SIM')\n",
    "ax[1].plot(pca.explained_variance_ratio_, label='SIM')\n",
    "\n",
    "pca = PCA(n_components=200, svd_solver='full')\n",
    "pca.fit(mix_model.vectors)\n",
    "ax[0].plot(pca.explained_variance_, label='MIX')\n",
    "ax[1].plot(pca.explained_variance_ratio_, label='MIX')\n",
    "pca = PCA(n_components=200, svd_solver='full')\n",
    "pca.fit(sig_model.vectors)\n",
    "ax[0].plot(pca.explained_variance_, label='SIG')\n",
    "ax[1].plot(pca.explained_variance_ratio_, label='SIG')\n",
    "pca = PCA(n_components=200, svd_solver='full')\n",
    "pca.fit(asn_model.vectors)\n",
    "ax[0].plot(pca.explained_variance_, label='ASN')\n",
    "ax[1].plot(pca.explained_variance_ratio_, label='ASN')\n",
    "ax[1].legend(loc=1)\n",
    "ax[0].set_title(r'\\textbf{Explained Variance of PCs}', fontsize=10)\n",
    "ax[1].set_title(r'\\textbf{Explained Variance Ratio of PCs}', fontsize=10)\n",
    "ax[0].set_ylabel(r'log(Var)', fontsize=9)\n",
    "ax[0].set_xlabel(r'\\#th Component', fontsize=9)\n",
    "ax[1].set_ylabel(r'log(Ratio)', fontsize=9)\n",
    "ax[1].set_xlabel(r'\\#th Component', fontsize=9)\n",
    "ax[1].tick_params(axis='y', labelrotation=90)\n",
    "ax[0].tick_params(axis='y', labelrotation=90)\n",
    "#ax[0].set_yticklabels(ax[0].get_yticklabels(), =90)\n",
    "\n",
    "plt.show()\n",
    "\n",
    "f.savefig(\"FreDecorVarRatio.pdf\", bbox_inches='tight')"
   ]
  },
  {
   "cell_type": "code",
   "execution_count": 277,
   "metadata": {},
   "outputs": [
    {
     "name": "stdout",
     "output_type": "stream",
     "text": [
      "ref: fr-pos-wsrel.dataset---dim: 300---------------------\n",
      "Pearson, r 0.062083801362663324 p 0.34335030614080586\n",
      "Spearman, r 0.03925785048687598 p 0.5492840044328924\n",
      "ref: fr-pos-simlex.dataset---dim: 300---------------------\n",
      "Pearson, r 0.06657221609421742 p 0.04574722936714159\n",
      "Spearman, r 0.04327119328442837 p 0.1944036821227507\n"
     ]
    }
   ],
   "source": [
    "ref_model = [\"fr-pos-wsrel.dataset\", \"fr-pos-simlex.dataset\"]\n",
    "\n",
    "model = gensim.models.KeyedVectors.load_word2vec_format(asn_model_path, binary=False)\n",
    "for ref in ref_model:\n",
    "    print (\"ref: %s---dim: %d---------------------\"%(ref, dim))\n",
    "    refp = \"/home/sying/Documents/WordNetEmbeddings/data/input/French_testset/\" + ref\n",
    "    res = model.evaluate_word_pairs(refp, delimiter=';')\n",
    "    print(\"Pearson, r\", res[0][0], 'p', res[0][1])\n",
    "    print(\"Spearman, r\", res[1][0], 'p', res[1][1])     \n",
    "    # print(\"OOV\", res[2])        "
   ]
  },
  {
   "cell_type": "code",
   "execution_count": 278,
   "metadata": {},
   "outputs": [
    {
     "name": "stdout",
     "output_type": "stream",
     "text": [
      "ref: fr-pos-wsrel.dataset---dim: 300---------------------\n",
      "Pearson, r 0.024092563909542758 p 0.7133087416442092\n",
      "Spearman, r 0.0019982620398572367 p 0.9756926441220919\n",
      "ref: fr-pos-simlex.dataset---dim: 300---------------------\n",
      "Pearson, r 0.27146922317450983 p 1.0994384724435082e-16\n",
      "Spearman, r 0.3106984264094054 p 1.2902266797393171e-21\n"
     ]
    }
   ],
   "source": [
    "ref_model = [\"fr-pos-wsrel.dataset\", \"fr-pos-simlex.dataset\"]\n",
    "\n",
    "model = gensim.models.KeyedVectors.load_word2vec_format(sig_model_path, binary=False)\n",
    "for ref in ref_model:\n",
    "    print (\"ref: %s---dim: %d---------------------\"%(ref, dim))\n",
    "    refp = \"/home/sying/Documents/WordNetEmbeddings/data/input/French_testset/\" + ref\n",
    "    res = model.evaluate_word_pairs(refp, delimiter=';')\n",
    "    print(\"Pearson, r\", res[0][0], 'p', res[0][1])\n",
    "    print(\"Spearman, r\", res[1][0], 'p', res[1][1])     \n",
    "    # print(\"OOV\", res[2])        "
   ]
  },
  {
   "cell_type": "code",
   "execution_count": 282,
   "metadata": {
    "scrolled": true
   },
   "outputs": [
    {
     "name": "stdout",
     "output_type": "stream",
     "text": [
      "ref: fr-pos-wsrel.dataset---dim: 300---------------------\n",
      "Pearson, r 0.1273298604055749 p 0.05124005880172186\n",
      "Spearman, r 0.09292796943891386 p 0.15559681838906625\n",
      "OOV 7.114624505928854\n",
      "ref: fr-pos-simlex.dataset---dim: 300---------------------\n",
      "Pearson, r 0.09726590144804816 p 0.0034725976201056\n",
      "Spearman, r 0.09179664928930993 p 0.005825810359922543\n",
      "OOV 7.967313585291114\n"
     ]
    }
   ],
   "source": [
    "ref_model = [\"fr-pos-wsrel.dataset\", \"fr-pos-simlex.dataset\"]\n",
    "\n",
    "model = gensim.models.KeyedVectors.load_word2vec_format(root_path + 'mix_embedding.txt', binary=False)\n",
    "for ref in ref_model:\n",
    "    print (\"ref: %s---dim: %d---------------------\"%(ref, dim))\n",
    "    refp = \"/home/sying/Documents/WordNetEmbeddings/data/input/French_testset/\" + ref\n",
    "    res = model.evaluate_word_pairs(refp, delimiter=';')\n",
    "    print(\"Pearson, r\", res[0][0], 'p', res[0][1])\n",
    "    print(\"Spearman, r\", res[1][0], 'p', res[1][1])     \n",
    "    print(\"OOV\", res[2])        "
   ]
  },
  {
   "cell_type": "markdown",
   "metadata": {},
   "source": [
    "# LPP Specific Test"
   ]
  },
  {
   "cell_type": "code",
   "execution_count": null,
   "metadata": {},
   "outputs": [],
   "source": []
  },
  {
   "cell_type": "code",
   "execution_count": 81,
   "metadata": {},
   "outputs": [],
   "source": [
    "ref_model = [\"fr-pos-wsrel.dataset\", \"fr-pos-simlex.dataset\"]\n",
    "\n",
    "model = gensim.models.KeyedVectors.load_word2vec_format(root_path + 'sim_56k_634d.txt', binary=False)"
   ]
  },
  {
   "cell_type": "code",
   "execution_count": 51,
   "metadata": {},
   "outputs": [
    {
     "name": "stdout",
     "output_type": "stream",
     "text": [
      "ref: fr-pos-wsrel.dataset---dim: 634---------------------\n",
      "Pearson, r 0.10390990957941862 p 0.10613322593026263\n",
      "Spearman, r 0.051152611689551944 p 0.4273126934361545\n",
      "ref: fr-pos-simlex.dataset---dim: 634---------------------\n",
      "Pearson, r 0.32910498528693743 p 5.571000169726239e-25\n",
      "Spearman, r 0.2812101536274285 p 2.1215623361628103e-18\n"
     ]
    }
   ],
   "source": [
    "for idx2, ref in enumerate(ref_model):\n",
    "    print (\"ref: %s---dim: %d---------------------\"%(ref, model.vector_size))\n",
    "    refp = \"/home/sying/Documents/WordNetEmbeddings/data/input/French_testset/\" + ref\n",
    "    res = model.evaluate_word_pairs(refp, delimiter=';')\n",
    "    print(\"Pearson, r\", res[0][0], 'p', res[0][1])\n",
    "    print(\"Spearman, r\", res[1][0], 'p', res[1][1])   "
   ]
  },
  {
   "cell_type": "code",
   "execution_count": 82,
   "metadata": {},
   "outputs": [],
   "source": [
    "# Dimension selected in LPP \n",
    "reg_str = \"sim_dim634_voc56665_d1 sim_dim634_voc56665_d2 sim_dim634_voc56665_d3 sim_dim634_voc56665_d4 sim_dim634_voc56665_d5 sim_dim634_voc56665_d6 sim_dim634_voc56665_d7 sim_dim634_voc56665_d8 sim_dim634_voc56665_d9 sim_dim634_voc56665_d10 sim_dim634_voc56665_d11 sim_dim634_voc56665_d12 sim_dim634_voc56665_d13 sim_dim634_voc56665_d14 sim_dim634_voc56665_d15 sim_dim634_voc56665_d16 sim_dim634_voc56665_d17 sim_dim634_voc56665_d18 sim_dim634_voc56665_d19 sim_dim634_voc56665_d20 sim_dim634_voc56665_d21 sim_dim634_voc56665_d22 sim_dim634_voc56665_d23 sim_dim634_voc56665_d24 sim_dim634_voc56665_d25 sim_dim634_voc56665_d26 sim_dim634_voc56665_d27 sim_dim634_voc56665_d28 sim_dim634_voc56665_d29 sim_dim634_voc56665_d30 sim_dim634_voc56665_d31 sim_dim634_voc56665_d32 sim_dim634_voc56665_d33 sim_dim634_voc56665_d34 sim_dim634_voc56665_d35 sim_dim634_voc56665_d36 sim_dim634_voc56665_d37 sim_dim634_voc56665_d38 sim_dim634_voc56665_d39 sim_dim634_voc56665_d40 sim_dim634_voc56665_d41 sim_dim634_voc56665_d42 sim_dim634_voc56665_d43 sim_dim634_voc56665_d44 sim_dim634_voc56665_d45 sim_dim634_voc56665_d46 sim_dim634_voc56665_d47 sim_dim634_voc56665_d48 sim_dim634_voc56665_d49 sim_dim634_voc56665_d50 sim_dim634_voc56665_d51 sim_dim634_voc56665_d52 sim_dim634_voc56665_d53 sim_dim634_voc56665_d54 sim_dim634_voc56665_d55 sim_dim634_voc56665_d56 sim_dim634_voc56665_d57 sim_dim634_voc56665_d58 sim_dim634_voc56665_d59 sim_dim634_voc56665_d60 sim_dim634_voc56665_d61 sim_dim634_voc56665_d62 sim_dim634_voc56665_d63 sim_dim634_voc56665_d64 sim_dim634_voc56665_d65 sim_dim634_voc56665_d66 sim_dim634_voc56665_d67 sim_dim634_voc56665_d68 sim_dim634_voc56665_d69 sim_dim634_voc56665_d70 sim_dim634_voc56665_d71 sim_dim634_voc56665_d72 sim_dim634_voc56665_d73 sim_dim634_voc56665_d74 sim_dim634_voc56665_d75 sim_dim634_voc56665_d76 sim_dim634_voc56665_d77 sim_dim634_voc56665_d78 sim_dim634_voc56665_d79 sim_dim634_voc56665_d80 sim_dim634_voc56665_d81 sim_dim634_voc56665_d82 sim_dim634_voc56665_d83 sim_dim634_voc56665_d84 sim_dim634_voc56665_d85 sim_dim634_voc56665_d87 sim_dim634_voc56665_d88 sim_dim634_voc56665_d89 sim_dim634_voc56665_d90 sim_dim634_voc56665_d91 sim_dim634_voc56665_d92 sim_dim634_voc56665_d93 sim_dim634_voc56665_d94 sim_dim634_voc56665_d96 sim_dim634_voc56665_d97 sim_dim634_voc56665_d99 sim_dim634_voc56665_d100 sim_dim634_voc56665_d103 sim_dim634_voc56665_d117 sim_dim634_voc56665_d131\"\n",
    "regs = reg_str.split()\n",
    "dims = []\n",
    "for reg in regs:\n",
    "    dims.append(int(reg.rsplit('_d')[2]))\n",
    "    \n",
    "dims = np.array(dims)\n",
    "model.vectors = model.vectors[:, dims]\n",
    "#model.vectors_norm = model.vectors_norm[:, :dims]\n",
    "model.vector_size = len(dims)"
   ]
  },
  {
   "cell_type": "code",
   "execution_count": 83,
   "metadata": {
    "scrolled": true
   },
   "outputs": [
    {
     "ename": "TypeError",
     "evalue": "'NoneType' object is not subscriptable",
     "output_type": "error",
     "traceback": [
      "\u001b[0;31m---------------------------------------------------------------------------\u001b[0m",
      "\u001b[0;31mTypeError\u001b[0m                                 Traceback (most recent call last)",
      "\u001b[0;32m<ipython-input-83-62a108fd8b73>\u001b[0m in \u001b[0;36m<module>\u001b[0;34m\u001b[0m\n\u001b[1;32m      1\u001b[0m \u001b[0mdims\u001b[0m \u001b[0;34m=\u001b[0m \u001b[0mnp\u001b[0m\u001b[0;34m.\u001b[0m\u001b[0marray\u001b[0m\u001b[0;34m(\u001b[0m\u001b[0mdims\u001b[0m\u001b[0;34m)\u001b[0m\u001b[0;34m\u001b[0m\u001b[0;34m\u001b[0m\u001b[0m\n\u001b[1;32m      2\u001b[0m \u001b[0mmodel\u001b[0m\u001b[0;34m.\u001b[0m\u001b[0mvectors\u001b[0m \u001b[0;34m=\u001b[0m \u001b[0mmodel\u001b[0m\u001b[0;34m.\u001b[0m\u001b[0mvectors\u001b[0m\u001b[0;34m[\u001b[0m\u001b[0;34m:\u001b[0m\u001b[0;34m,\u001b[0m \u001b[0mdims\u001b[0m\u001b[0;34m]\u001b[0m\u001b[0;34m\u001b[0m\u001b[0;34m\u001b[0m\u001b[0m\n\u001b[0;32m----> 3\u001b[0;31m \u001b[0mmodel\u001b[0m\u001b[0;34m.\u001b[0m\u001b[0mvectors_norm\u001b[0m \u001b[0;34m=\u001b[0m \u001b[0mmodel\u001b[0m\u001b[0;34m.\u001b[0m\u001b[0mvectors_norm\u001b[0m\u001b[0;34m[\u001b[0m\u001b[0;34m:\u001b[0m\u001b[0;34m,\u001b[0m \u001b[0;34m:\u001b[0m\u001b[0mdims\u001b[0m\u001b[0;34m]\u001b[0m\u001b[0;34m\u001b[0m\u001b[0;34m\u001b[0m\u001b[0m\n\u001b[0m\u001b[1;32m      4\u001b[0m \u001b[0mmodel\u001b[0m\u001b[0;34m.\u001b[0m\u001b[0mvector_size\u001b[0m \u001b[0;34m=\u001b[0m \u001b[0mlen\u001b[0m\u001b[0;34m(\u001b[0m\u001b[0mdims\u001b[0m\u001b[0;34m)\u001b[0m\u001b[0;34m\u001b[0m\u001b[0;34m\u001b[0m\u001b[0m\n",
      "\u001b[0;31mTypeError\u001b[0m: 'NoneType' object is not subscriptable"
     ]
    }
   ],
   "source": [
    "dims = np.array(dims)\n",
    "model.vectors = model.vectors[:, dims]\n",
    "#model.vectors_norm = model.vectors_norm[:, :dims]\n",
    "model.vector_size = len(dims)"
   ]
  },
  {
   "cell_type": "code",
   "execution_count": 54,
   "metadata": {},
   "outputs": [
    {
     "name": "stdout",
     "output_type": "stream",
     "text": [
      "ref: fr-pos-wsrel.dataset---dim: 100---------------------\n",
      "Pearson, r 0.0488015663730931 p 0.4488881787358334\n",
      "Spearman, r 0.02648772337589506 p 0.6811855975364525\n",
      "ref: fr-pos-simlex.dataset---dim: 100---------------------\n",
      "Pearson, r 0.3157107438578365 p 5.131528756665213e-23\n",
      "Spearman, r 0.2625170138821844 p 3.735428799909342e-16\n"
     ]
    }
   ],
   "source": [
    "for idx2, ref in enumerate(ref_model):\n",
    "    print (\"ref: %s---dim: %d---------------------\"%(ref, model.vector_size))\n",
    "    refp = \"/home/sying/Documents/WordNetEmbeddings/data/input/French_testset/\" + ref\n",
    "    res = model.evaluate_word_pairs(refp, delimiter=';')\n",
    "    print(\"Pearson, r\", res[0][0], 'p', res[0][1])\n",
    "    print(\"Spearman, r\", res[1][0], 'p', res[1][1])   "
   ]
  },
  {
   "cell_type": "code",
   "execution_count": null,
   "metadata": {
    "scrolled": true
   },
   "outputs": [],
   "source": [
    "results = np.zeros((21, 2, 2, 2))\n",
    "for idx, dim in enumerate(range(45, 4, -2)):\n",
    "    model.vectors = model.vectors[:, :dim]\n",
    "    model.vectors_norm = model.vectors_norm[:, :dim]\n",
    "    model.vector_size = dim\n",
    "    for idx2, ref in enumerate(ref_model):\n",
    "        print (\"ref: %s---dim: %d---------------------\"%(ref, model.vector_size))\n",
    "        refp = \"/home/sying/Documents/WordNetEmbeddings/data/input/French_testset/\" + ref\n",
    "        res = model.evaluate_word_pairs(refp, delimiter=';')\n",
    "        results[idx, idx2, 0, 0] = res[0][0]\n",
    "        results[idx, idx2, 0, 1] = res[0][1]\n",
    "        results[idx, idx2, 1, 0] = res[1][0]\n",
    "        results[idx, idx2, 1, 1] = res[1][1]\n",
    "        print(\"Pearson, r\", res[0][0], 'p', res[0][1])\n",
    "        print(\"Spearman, r\", res[1][0], 'p', res[1][1])     \n",
    "    # print(\"OOV\", res[2])        "
   ]
  },
  {
   "cell_type": "code",
   "execution_count": null,
   "metadata": {},
   "outputs": [],
   "source": [
    "ref: fr-pos-wsrel.dataset---dim: 634---------------------\n",
    "Pearson, r 0.10390990957941862 p 0.10613322593026263\n",
    "Spearman, r 0.051152611689551944 p 0.4273126934361545\n",
    "ref: fr-pos-simlex.dataset---dim: 634---------------------\n",
    "Pearson, r 0.32910498528693743 p 5.571000169726239e-25\n",
    "Spearman, r 0.2812101536274285 p 2.1215623361628103e-18\n",
    "\n",
    "ref: fr-pos-wsrel.dataset---dim: 100---------------------\n",
    "Pearson, r 0.0488015663730931 p 0.4488881787358334\n",
    "Spearman, r 0.02648772337589506 p 0.6811855975364525\n",
    "ref: fr-pos-simlex.dataset---dim: 100---------------------\n",
    "Pearson, r 0.3157107438578365 p 5.131528756665213e-23\n",
    "Spearman, r 0.2625170138821844 p 3.735428799909342e-16\n"
   ]
  },
  {
   "cell_type": "code",
   "execution_count": 66,
   "metadata": {},
   "outputs": [],
   "source": [
    "cm = plt.get_cmap('Accent')"
   ]
  },
  {
   "cell_type": "code",
   "execution_count": 72,
   "metadata": {
    "scrolled": true
   },
   "outputs": [
    {
     "data": {
      "image/png": "[encoded data removed]",
      "text/plain": [
       "<Figure size 1080x720 with 1 Axes>"
      ]
     },
     "metadata": {
      "needs_background": "light"
     },
     "output_type": "display_data"
    }
   ],
   "source": [
    "plt.figure(figsize=(15,10))\n",
    "plt.hlines([0.10390990957941862, 0.051152611689551944, 0.32910498528693743, 0.2812101536274285, \\\n",
    "            0.0488015663730931, 0.02648772337589506, 0.3157107438578365, 0.2625170138821844], 5, 45, \n",
    "          colors=cm.colors[:4], linestyles=['dashed']*4+['dotted']*4)\n",
    "plt.plot(range(45, 4, -2), results[:, 0, 0, 0], label='ASN Pearson', c=cm.colors[0])\n",
    "plt.plot(range(45, 4, -2), results[:, 0, 1, 0], label='ASN Spearman', c=cm.colors[1])\n",
    "plt.plot(range(45, 4, -2), results[:, 1, 0, 0], label='SIM Pearson', c=cm.colors[2])\n",
    "plt.plot(range(45, 4, -2), results[:, 1, 1, 0], label='SIM Spearman', c=cm.colors[3])\n",
    "plt.legend()\n",
    "plt.show()"
   ]
  },
  {
   "cell_type": "code",
   "execution_count": null,
   "metadata": {},
   "outputs": [],
   "source": []
  },
  {
   "cell_type": "code",
   "execution_count": 88,
   "metadata": {},
   "outputs": [],
   "source": [
    "ref_model = [\"fr-pos-wsrel.dataset\", \"fr-pos-simlex.dataset\"]\n",
    "\n",
    "model = gensim.models.KeyedVectors.load_word2vec_format(root_path + 'asn_embedding_24519.txt', binary=False)"
   ]
  },
  {
   "cell_type": "code",
   "execution_count": 90,
   "metadata": {},
   "outputs": [
    {
     "name": "stdout",
     "output_type": "stream",
     "text": [
      "ref: fr-pos-wsrel.dataset---dim: 200---------------------\n",
      "Pearson, r 0.11157418681064848 p 0.08789413606529137\n",
      "Spearman, r 0.15664118141033603 p 0.016247220815948968\n",
      "ref: fr-pos-simlex.dataset---dim: 200---------------------\n",
      "Pearson, r 0.06291620230137814 p 0.05905506655177261\n",
      "Spearman, r 0.07710406040568947 p 0.02063263946877119\n"
     ]
    },
    {
     "name": "stderr",
     "output_type": "stream",
     "text": [
      "/home/sying/root/anaconda3/envs/micipsa/lib/python3.6/site-packages/gensim/matutils.py:737: FutureWarning: Conversion of the second argument of issubdtype from `int` to `np.signedinteger` is deprecated. In future, it will be treated as `np.int64 == np.dtype(int).type`.\n",
      "  if np.issubdtype(vec.dtype, np.int):\n"
     ]
    }
   ],
   "source": [
    "for idx2, ref in enumerate(ref_model):\n",
    "    print (\"ref: %s---dim: %d---------------------\"%(ref, model.vector_size))\n",
    "    refp = \"/home/sying/Documents/WordNetEmbeddings/data/input/French_testset/\" + ref\n",
    "    res = model.evaluate_word_pairs(refp, delimiter=';')\n",
    "    print(\"Pearson, r\", res[0][0], 'p', res[0][1])\n",
    "    print(\"Spearman, r\", res[1][0], 'p', res[1][1])   "
   ]
  },
  {
   "cell_type": "code",
   "execution_count": 60,
   "metadata": {},
   "outputs": [],
   "source": [
    "ref_model = [\"fr-pos-wsrel.dataset\", \"fr-pos-simlex.dataset\"]\n",
    "model = gensim.models.KeyedVectors.load_word2vec_format(root_path + 'sig_embedding_24519.txt', binary=False)"
   ]
  },
  {
   "cell_type": "code",
   "execution_count": 61,
   "metadata": {},
   "outputs": [
    {
     "name": "stdout",
     "output_type": "stream",
     "text": [
      "ref: fr-pos-wsrel.dataset---dim: 200---------------------\n"
     ]
    },
    {
     "name": "stderr",
     "output_type": "stream",
     "text": [
      "/home/sying/root/anaconda3/envs/micipsa/lib/python3.6/site-packages/gensim/matutils.py:737: FutureWarning: Conversion of the second argument of issubdtype from `int` to `np.signedinteger` is deprecated. In future, it will be treated as `np.int64 == np.dtype(int).type`.\n",
      "  if np.issubdtype(vec.dtype, np.int):\n"
     ]
    },
    {
     "name": "stdout",
     "output_type": "stream",
     "text": [
      "Pearson, r -0.004453977099069999 p 0.9458537449428723\n",
      "Spearman, r -0.007823366954286048 p 0.9050438015391404\n",
      "ref: fr-pos-simlex.dataset---dim: 200---------------------\n",
      "Pearson, r 0.2541265686844514 p 9.562952354592692e-15\n",
      "Spearman, r 0.31208995136052176 p 8.3449300626506e-22\n"
     ]
    }
   ],
   "source": [
    "for idx2, ref in enumerate(ref_model):\n",
    "    print (\"ref: %s---dim: %d---------------------\"%(ref, model.vector_size))\n",
    "    refp = \"/home/sying/Documents/WordNetEmbeddings/data/input/French_testset/\" + ref\n",
    "    res = model.evaluate_word_pairs(refp, delimiter=';')\n",
    "    print(\"Pearson, r\", res[0][0], 'p', res[0][1])\n",
    "    print(\"Spearman, r\", res[1][0], 'p', res[1][1])   "
   ]
  },
  {
   "cell_type": "code",
   "execution_count": 62,
   "metadata": {},
   "outputs": [],
   "source": [
    "ref_model = [\"fr-pos-wsrel.dataset\", \"fr-pos-simlex.dataset\"]\n",
    "model = gensim.models.KeyedVectors.load_word2vec_format(root_path + 'mix_embedding_24519.txt', binary=False)"
   ]
  },
  {
   "cell_type": "code",
   "execution_count": 63,
   "metadata": {},
   "outputs": [
    {
     "name": "stdout",
     "output_type": "stream",
     "text": [
      "ref: fr-pos-wsrel.dataset---dim: 200---------------------\n",
      "Pearson, r 0.15201656697320495 p 0.019726466511496937\n",
      "Spearman, r 0.20784375651537762 p 0.0013541052113862592\n",
      "ref: fr-pos-simlex.dataset---dim: 200---------------------\n",
      "Pearson, r 0.0940634642458028 p 0.004715989903415893\n",
      "Spearman, r 0.14492391213966774 p 1.258678280888317e-05\n"
     ]
    }
   ],
   "source": [
    "for idx2, ref in enumerate(ref_model):\n",
    "    print (\"ref: %s---dim: %d---------------------\"%(ref, model.vector_size))\n",
    "    refp = \"/home/sying/Documents/WordNetEmbeddings/data/input/French_testset/\" + ref\n",
    "    res = model.evaluate_word_pairs(refp, delimiter=';')\n",
    "    print(\"Pearson, r\", res[0][0], 'p', res[0][1])\n",
    "    print(\"Spearman, r\", res[1][0], 'p', res[1][1])   "
   ]
  },
  {
   "cell_type": "code",
   "execution_count": 76,
   "metadata": {
    "scrolled": true
   },
   "outputs": [
    {
     "name": "stdout",
     "output_type": "stream",
     "text": [
      "ref: fr-pos-wsrel.dataset---dim: 45---------------------\n",
      "Pearson, r 0.04732950987809014 p 0.4702430447915138\n",
      "Spearman, r 0.08240403594719004 p 0.2081619058947332\n",
      "ref: fr-pos-simlex.dataset---dim: 45---------------------\n",
      "Pearson, r 0.07336462570950766 p 0.027660216465077384\n",
      "Spearman, r 0.07773519189026616 p 0.019614385287863325\n",
      "ref: fr-pos-wsrel.dataset---dim: 43---------------------\n",
      "Pearson, r 0.04086761252001157 p 0.5330160616451984\n",
      "Spearman, r 0.07624511678177164 p 0.24431108945700758\n",
      "ref: fr-pos-simlex.dataset---dim: 43---------------------\n",
      "Pearson, r 0.0709508439624717 p 0.033218281285213765\n",
      "Spearman, r 0.07070409855888245 p 0.03383682064212477\n",
      "ref: fr-pos-wsrel.dataset---dim: 41---------------------\n",
      "Pearson, r 0.040314822304558934 p 0.538575050369253\n",
      "Spearman, r 0.071285524717554 p 0.27644300246745707\n",
      "ref: fr-pos-simlex.dataset---dim: 41---------------------\n",
      "Pearson, r 0.07337305539297807 p 0.027642303220788395\n",
      "Spearman, r 0.07248493339281206 p 0.02958536063576334\n",
      "ref: fr-pos-wsrel.dataset---dim: 39---------------------\n",
      "Pearson, r 0.04230098934646312 p 0.5187372846976521\n",
      "Spearman, r 0.08004606824629418 p 0.22151764213733321\n",
      "ref: fr-pos-simlex.dataset---dim: 39---------------------\n",
      "Pearson, r 0.07625697248876558 p 0.022071451314256967\n",
      "Spearman, r 0.07324460036557738 p 0.027916358991678897\n",
      "ref: fr-pos-wsrel.dataset---dim: 37---------------------\n",
      "Pearson, r 0.048287229545136805 p 0.46129748816592386\n",
      "Spearman, r 0.10327667356619859 p 0.11433960708098469\n",
      "ref: fr-pos-simlex.dataset---dim: 37---------------------\n",
      "Pearson, r 0.07478006640996349 p 0.024788978487235616\n",
      "Spearman, r 0.07031605596008546 p 0.0348294437616448\n",
      "ref: fr-pos-wsrel.dataset---dim: 35---------------------\n",
      "Pearson, r 0.02895490395411449 p 0.6587815277860477\n",
      "Spearman, r 0.08148720262348876 p 0.21328429899542758\n",
      "ref: fr-pos-simlex.dataset---dim: 35---------------------\n",
      "Pearson, r 0.07852813965317296 p 0.018397377043073735\n",
      "Spearman, r 0.0741704618758527 p 0.02599234622494531\n",
      "ref: fr-pos-wsrel.dataset---dim: 33---------------------\n",
      "Pearson, r 0.03259209034312715 p 0.6191218783383312\n",
      "Spearman, r 0.08350580791409883 p 0.20212423243508013\n",
      "ref: fr-pos-simlex.dataset---dim: 33---------------------\n",
      "Pearson, r 0.07281362133246014 p 0.028852994029655556\n",
      "Spearman, r 0.07154135758428296 p 0.031777090776271784\n",
      "ref: fr-pos-wsrel.dataset---dim: 31---------------------\n",
      "Pearson, r 0.038230016809161174 p 0.5597968213491789\n",
      "Spearman, r 0.08472825234570053 p 0.19557484747441628\n",
      "ref: fr-pos-simlex.dataset---dim: 31---------------------\n",
      "Pearson, r 0.06101451914536083 p 0.06715795795056137\n",
      "Spearman, r 0.05797591695136779 p 0.08198363516298247\n",
      "ref: fr-pos-wsrel.dataset---dim: 29---------------------\n",
      "Pearson, r 0.04476544587959792 p 0.4946545144133445\n",
      "Spearman, r 0.08644124652841016 p 0.1866593130135246\n",
      "ref: fr-pos-simlex.dataset---dim: 29---------------------\n",
      "Pearson, r 0.05982219760594898 p 0.07268916384580222\n",
      "Spearman, r 0.05696639979494515 p 0.08745923379774632\n",
      "ref: fr-pos-wsrel.dataset---dim: 27---------------------\n",
      "Pearson, r 0.049389801219138524 p 0.45111697718468835\n",
      "Spearman, r 0.09791530229961262 p 0.13449530152896524\n",
      "ref: fr-pos-simlex.dataset---dim: 27---------------------\n",
      "Pearson, r 0.049163757150673455 p 0.14032684740130782\n",
      "Spearman, r 0.04579777969536487 p 0.16959422894094875\n",
      "ref: fr-pos-wsrel.dataset---dim: 25---------------------\n",
      "Pearson, r 0.04137766414809498 p 0.5279125647332914\n",
      "Spearman, r 0.09431177283671412 p 0.1495063391770163\n",
      "ref: fr-pos-simlex.dataset---dim: 25---------------------\n",
      "Pearson, r 0.040805807028451276 p 0.22107922645791606\n",
      "Spearman, r 0.03362349069159036 p 0.3133829758771801\n",
      "ref: fr-pos-wsrel.dataset---dim: 23---------------------\n",
      "Pearson, r 0.054640639550768394 p 0.4044039298724039\n",
      "Spearman, r 0.10073931538139143 p 0.12356278289875446\n",
      "ref: fr-pos-simlex.dataset---dim: 23---------------------\n",
      "Pearson, r 0.03772389970687812 p 0.25798092255447913\n",
      "Spearman, r 0.02785420952641193 p 0.4036660601636891\n",
      "ref: fr-pos-wsrel.dataset---dim: 21---------------------\n",
      "Pearson, r 0.04560824900406437 p 0.48655702166258186\n",
      "Spearman, r 0.07862666415967648 p 0.2298455840019057\n",
      "ref: fr-pos-simlex.dataset---dim: 21---------------------\n",
      "Pearson, r 0.04113585262791545 p 0.21736354903618624\n",
      "Spearman, r 0.030972758587448468 p 0.35308035979502994\n",
      "ref: fr-pos-wsrel.dataset---dim: 19---------------------\n",
      "Pearson, r 0.04046784929707085 p 0.5370332877590094\n",
      "Spearman, r 0.067693553919856 p 0.3014284342667172\n",
      "ref: fr-pos-simlex.dataset---dim: 19---------------------\n",
      "Pearson, r 0.038751785853303404 p 0.24522695494843494\n",
      "Spearman, r 0.0349728065330173 p 0.29434826754180604\n",
      "ref: fr-pos-wsrel.dataset---dim: 17---------------------\n",
      "Pearson, r 0.05073221509532792 p 0.438894232410897\n",
      "Spearman, r 0.07576473865604011 p 0.24730423482761604\n",
      "ref: fr-pos-simlex.dataset---dim: 17---------------------\n",
      "Pearson, r 0.05895640892926266 p 0.07693450721928372\n",
      "Spearman, r 0.055501701090875655 p 0.09592342899791605\n",
      "ref: fr-pos-wsrel.dataset---dim: 15---------------------\n",
      "Pearson, r 0.07500034527399126 p 0.25211944690413174\n",
      "Spearman, r 0.10237694706699399 p 0.11754641978915784\n",
      "ref: fr-pos-simlex.dataset---dim: 15---------------------\n",
      "Pearson, r 0.05916015219497806 p 0.0759177361553932\n",
      "Spearman, r 0.05052260012036716 p 0.12967560306410103\n",
      "ref: fr-pos-wsrel.dataset---dim: 13---------------------\n",
      "Pearson, r 0.11037251626373328 p 0.09138856660502218\n",
      "Spearman, r 0.1355743582159596 p 0.03781707883267727\n",
      "ref: fr-pos-simlex.dataset---dim: 13---------------------\n",
      "Pearson, r 0.056633805760317034 p 0.08932642307069567\n",
      "Spearman, r 0.040312267083074386 p 0.2267199874941957\n",
      "ref: fr-pos-wsrel.dataset---dim: 11---------------------\n",
      "Pearson, r 0.06569911305107176 p 0.31592748349100297\n",
      "Spearman, r 0.0914822115956391 p 0.16215789478541878\n",
      "ref: fr-pos-simlex.dataset---dim: 11---------------------\n",
      "Pearson, r 0.057734329929394576 p 0.08326805456217616\n",
      "Spearman, r 0.03859134312662623 p 0.24718809293274727\n",
      "ref: fr-pos-wsrel.dataset---dim: 9---------------------\n",
      "Pearson, r 0.06242145970654599 p 0.34072694345154153\n",
      "Spearman, r 0.08534779680044571 p 0.19231520447974265\n",
      "ref: fr-pos-simlex.dataset---dim: 9---------------------\n",
      "Pearson, r 0.05045653270477632 p 0.13017854446377727\n",
      "Spearman, r 0.026568455801508545 p 0.4257241307171057\n",
      "ref: fr-pos-wsrel.dataset---dim: 7---------------------\n",
      "Pearson, r 0.02036230087466098 p 0.7561686544508843\n",
      "Spearman, r 0.0446649940676558 p 0.49562438750802684\n",
      "ref: fr-pos-simlex.dataset---dim: 7---------------------\n",
      "Pearson, r 0.035468827093418906 p 0.2875496253247017\n",
      "Spearman, r 0.007181691316086682 p 0.8295537656137764\n",
      "ref: fr-pos-wsrel.dataset---dim: 5---------------------\n",
      "Pearson, r 0.01602619649558358 p 0.8069344894963579\n",
      "Spearman, r 0.02149588084661789 p 0.7430580508006446\n",
      "ref: fr-pos-simlex.dataset---dim: 5---------------------\n",
      "Pearson, r 0.03716609224983301 p 0.26509117726818554\n",
      "Spearman, r 0.007692377805689456 p 0.8176392623106837\n"
     ]
    }
   ],
   "source": [
    "results = np.zeros((21, 2, 2, 2))\n",
    "for idx, dim in enumerate(range(45, 4, -2)):\n",
    "    model.vectors = model.vectors[:, :dim]\n",
    "    model.vectors_norm = model.vectors_norm[:, :dim]\n",
    "    model.vector_size = dim\n",
    "    for idx2, ref in enumerate(ref_model):\n",
    "        print (\"ref: %s---dim: %d---------------------\"%(ref, model.vector_size))\n",
    "        refp = \"/home/sying/Documents/WordNetEmbeddings/data/input/French_testset/\" + ref\n",
    "        res = model.evaluate_word_pairs(refp, delimiter=';')\n",
    "        results[idx, idx2, 0, 0] = res[0][0]\n",
    "        results[idx, idx2, 0, 1] = res[0][1]\n",
    "        results[idx, idx2, 1, 0] = res[1][0]\n",
    "        results[idx, idx2, 1, 1] = res[1][1]\n",
    "        print(\"Pearson, r\", res[0][0], 'p', res[0][1])\n",
    "        print(\"Spearman, r\", res[1][0], 'p', res[1][1])     \n",
    "    # print(\"OOV\", res[2])        "
   ]
  },
  {
   "cell_type": "code",
   "execution_count": null,
   "metadata": {},
   "outputs": [],
   "source": [
    "ref: fr-pos-wsrel.dataset---dim: 200---------------------\n",
    "Pearson, r 0.11157418681064848 p 0.08789413606529137\n",
    "Spearman, r 0.15664118141033603 p 0.016247220815948968\n",
    "ref: fr-pos-simlex.dataset---dim: 200---------------------\n",
    "Pearson, r 0.06291620230137814 p 0.05905506655177261\n",
    "Spearman, r 0.07710406040568947 p 0.02063263946877119\n"
   ]
  },
  {
   "cell_type": "code",
   "execution_count": 66,
   "metadata": {},
   "outputs": [],
   "source": [
    "cm = plt.get_cmap('Accent')"
   ]
  },
  {
   "cell_type": "code",
   "execution_count": 79,
   "metadata": {},
   "outputs": [
    {
     "data": {
      "text/plain": [
       "13"
      ]
     },
     "execution_count": 79,
     "metadata": {},
     "output_type": "execute_result"
    }
   ],
   "source": [
    "list(range(45, 4, -2))[results[:, 0,0,0].argmax()]"
   ]
  },
  {
   "cell_type": "code",
   "execution_count": 77,
   "metadata": {
    "scrolled": false
   },
   "outputs": [
    {
     "data": {
      "image/png": "[encoded data removed]",
      "text/plain": [
       "<Figure size 1080x720 with 1 Axes>"
      ]
     },
     "metadata": {
      "needs_background": "light"
     },
     "output_type": "display_data"
    }
   ],
   "source": [
    "plt.figure(figsize=(15,10))\n",
    "plt.hlines([0.11157418681064848,  0.15664118141033603, 0.06291620230137814, 0.07710406040568947],\n",
    "           5, 45, colors=cm.colors[:4], linestyles='dashed')\n",
    "plt.plot(range(45, 4, -2), results[:, 0, 0, 0], label='ASN Pearson', c=cm.colors[0])\n",
    "plt.plot(range(45, 4, -2), results[:, 0, 1, 0], label='ASN Spearman', c=cm.colors[1])\n",
    "plt.plot(range(45, 4, -2), results[:, 1, 0, 0], label='SIM Pearson', c=cm.colors[2])\n",
    "plt.plot(range(45, 4, -2), results[:, 1, 1, 0], label='SIM Spearman', c=cm.colors[3])\n",
    "plt.legend()\n",
    "plt.show()"
   ]
  },
  {
   "cell_type": "code",
   "execution_count": 64,
   "metadata": {},
   "outputs": [
    {
     "data": {
      "text/plain": [
       "<gensim.models.keyedvectors.Word2VecKeyedVectors at 0x7f83a13c2358>"
      ]
     },
     "execution_count": 64,
     "metadata": {},
     "output_type": "execute_result"
    }
   ],
   "source": []
  },
  {
   "cell_type": "code",
   "execution_count": null,
   "metadata": {},
   "outputs": [],
   "source": []
  }
 ],
 "metadata": {
  "kernelspec": {
   "display_name": "Python 3",
   "language": "python",
   "name": "python3"
  },
  "language_info": {
   "codemirror_mode": {
    "name": "ipython",
    "version": 3
   },
   "file_extension": ".py",
   "mimetype": "text/x-python",
   "name": "python",
   "nbconvert_exporter": "python",
   "pygments_lexer": "ipython3",
   "version": "3.6.7"
  }
 },
 "nbformat": 4,
 "nbformat_minor": 2
}
