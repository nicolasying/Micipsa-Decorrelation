{
 "cells": [
  {
   "cell_type": "code",
   "execution_count": 3,
   "metadata": {},
   "outputs": [],
   "source": [
    "import os, logging, gensim\n",
    "import numpy as np\n",
    "import pandas as pd\n",
    "from sklearn import linear_model\n",
    "import unicodedata as ud\n",
    "import copy"
   ]
  },
  {
   "cell_type": "code",
   "execution_count": 1,
   "metadata": {},
   "outputs": [],
   "source": [
    "# Global configuration\n",
    "lang = 'French_POS'\n",
    "include_pos = True\n",
    "root_path = './' + lang + '/'\n",
    "\n",
    "if lang == 'French':\n",
    "    sim_model_path = root_path + 'wolf_15k_850d.txt'\n",
    "    mix_model_path = root_path + 'depglove_200d_eric.txt'\n",
    "    asn_model_path = root_path + 'asn_embedding.txt'\n",
    "    sig_model_path = root_path + 'sig_embedding.txt'\n",
    "elif lang == 'French_POS':\n",
    "    sim_model_path = root_path + 'wolf_pos_850d.txt'\n",
    "    mix_model_path = root_path + 'depglove_200d_eric.txt'\n",
    "    asn_model_path = root_path + 'asn_embedding.txt'\n",
    "    sig_model_path = root_path + 'sig_embedding.txt'\n",
    "elif lang == 'English':\n",
    "    sim_model_path = root_path + 'sim_embedding.txt'\n",
    "    mix_model_path = root_path + 'glove.840B.300d.txt'\n",
    "    asn_model_path = root_path + 'asn_embedding.txt'\n",
    "    sig_model_path = root_path + 'sig_embedding.txt'\n"
   ]
  },
  {
   "cell_type": "markdown",
   "metadata": {},
   "source": [
    "## Define key vocabulary items"
   ]
  },
  {
   "cell_type": "code",
   "execution_count": 4,
   "metadata": {},
   "outputs": [
    {
     "data": {
      "text/plain": [
       "'/Users/soshy/code/Micipsa-Decorrelation'"
      ]
     },
     "execution_count": 4,
     "metadata": {},
     "output_type": "execute_result"
    }
   ],
   "source": [
    "os.getcwd()"
   ]
  },
  {
   "cell_type": "code",
   "execution_count": 6,
   "metadata": {},
   "outputs": [],
   "source": [
    "lpp_path = root_path + 'lpp_wolf_tuned_vocab.txt'\n",
    "file = open(lpp_path, mode='r')\n",
    "file_data = file.read()\n",
    "lpp_voc = file_data.strip().split('\\n')\n",
    "lpp_voc = set(lpp_voc)"
   ]
  },
  {
   "cell_type": "code",
   "execution_count": 42,
   "metadata": {},
   "outputs": [],
   "source": [
    "lpp_path = '../Similarity-Association-Benchmarks/fr-pos-wsrel.dataset'\n",
    "wsrel_voc = pd.read_csv(lpp_path, delimiter=';', header=None).to_dict('list')\n",
    "wsrel_voc = set(wsrel_voc[0]).union(wsrel_voc[1])"
   ]
  },
  {
   "cell_type": "code",
   "execution_count": 44,
   "metadata": {},
   "outputs": [],
   "source": [
    "lpp_path = '../Similarity-Association-Benchmarks/fr-pos-simlex.dataset'\n",
    "simlex_voc = pd.read_csv(lpp_path, delimiter=';', header=None).to_dict('list')\n",
    "simlex_voc = set(simlex_voc[0]).union(simlex_voc[1])"
   ]
  },
  {
   "cell_type": "code",
   "execution_count": 45,
   "metadata": {},
   "outputs": [],
   "source": [
    "relevant_voc = lpp_voc.union(wsrel_voc).union(simlex_voc)"
   ]
  },
  {
   "cell_type": "code",
   "execution_count": 46,
   "metadata": {},
   "outputs": [
    {
     "data": {
      "text/plain": [
       "2402"
      ]
     },
     "execution_count": 46,
     "metadata": {},
     "output_type": "execute_result"
    }
   ],
   "source": [
    "len(relevant_voc)"
   ]
  },
  {
   "cell_type": "markdown",
   "metadata": {},
   "source": [
    "# Load Vocabularies"
   ]
  },
  {
   "cell_type": "code",
   "execution_count": 68,
   "metadata": {},
   "outputs": [],
   "source": [
    "wolf_voc = open(root_path+'vocabulary_pos_wolf.txt', mode='r').read().split('\\n')"
   ]
  },
  {
   "cell_type": "code",
   "execution_count": 81,
   "metadata": {},
   "outputs": [],
   "source": [
    "glove_voc_raw = open(root_path+'vocabulary_depglove.txt', mode='r', encoding='utf8').read().split('\\n')"
   ]
  },
  {
   "cell_type": "markdown",
   "metadata": {},
   "source": [
    "## Clean WOLF vocabulary"
   ]
  },
  {
   "cell_type": "code",
   "execution_count": 67,
   "metadata": {},
   "outputs": [],
   "source": [
    "latin_letters= {}\n",
    "\n",
    "def is_latin(uchr):\n",
    "    try: return latin_letters[uchr]\n",
    "    except KeyError:\n",
    "         return latin_letters.setdefault(uchr, 'LATIN' in ud.name(uchr))\n",
    "\n",
    "def only_roman_chars(unistr):\n",
    "    return all(is_latin(uchr)\n",
    "           for uchr in unistr\n",
    "           if uchr.isalpha()) # isalpha suggested by John Machin"
   ]
  },
  {
   "cell_type": "code",
   "execution_count": 112,
   "metadata": {},
   "outputs": [
    {
     "name": "stdout",
     "output_type": "stream",
     "text": [
      "ابوظبي_n not a regular form\n",
      "radioactivité_α_n not a regular form\n",
      "\tconverted to radioactivité_α_n\n",
      "grèbe_jougris|ko=큰논병아리|nl=roodhalsfuut_n not a regular form\n",
      "\tconverted to grèbe_jougris_n\n",
      "गुरु_n not a regular form\n",
      "Nay_نای_n not a regular form\n",
      "capucin|ja=オマキザル属|lt=kapucinas|nl=kapucijnapen_n not a regular form\n",
      "\tconverted to capucin_n\n",
      "α_Virginis_n not a regular form\n",
      "\tconverted to α_Virginis_n\n",
      "particule_α_n not a regular form\n",
      "\tconverted to particule_α_n\n",
      "دبي_n not a regular form\n",
      "acide_α-linolénique_n not a regular form\n",
      "\tconverted to acide_α-linolénique_n\n",
      "poirier_commun|pl=grusza_pospolita|uk=груша_звичайна_n not a regular form\n",
      "\tconverted to poirier_commun_n\n",
      "β-bloquant_n not a regular form\n",
      "\tconverted to β-bloquant_n\n",
      "radioactivité_β_n not a regular form\n",
      "\tconverted to radioactivité_β_n\n",
      "gerbille|ja=スナネズミ|nl=gerbils|pl=myszoskoczki_n not a regular form\n",
      "\tconverted to gerbille_n\n",
      "в_n not a regular form\n",
      "حماس_n not a regular form\n",
      "nèfle|lt=šliandra|os=мугæ_n not a regular form\n",
      "\tconverted to nèfle_n\n",
      "к_n not a regular form\n",
      "squamates|ja=トカゲ目_n not a regular form\n",
      "\tconverted to squamates_n\n",
      "particule_β_n not a regular form\n",
      "\tconverted to particule_β_n\n",
      "néflier_du_japon|ja=ビワ|nl=loquat|pt=nêspera_n not a regular form\n",
      "\tconverted to néflier_du_japon_n\n"
     ]
    }
   ],
   "source": [
    "wolf_voc_set = set()\n",
    "for word in sim_voc_list:\n",
    "    if only_roman_chars(word):\n",
    "        wolf_voc_set.add(word)\n",
    "    else:\n",
    "        print(word, 'not a regular form')\n",
    "        if word in sim_voc_roman_dict:\n",
    "            print('\\tconverted to', sim_voc_roman_dict[word])\n",
    "            wolf_voc_set.add(sim_voc_roman_dict[word])"
   ]
  },
  {
   "cell_type": "code",
   "execution_count": 88,
   "metadata": {},
   "outputs": [],
   "source": [
    "sim_voc_roman_dict = {\"grèbe_jougris|ko=큰논병아리|nl=roodhalsfuut_n\": \"grèbe_jougris_n\", \n",
    "                      \"capucin|ja=オマキザル属|lt=kapucinas|nl=kapucijnapen_n\": \"capucin_n\", \n",
    "                      \"poirier_commun|pl=grusza_pospolita|uk=груша_звичайна_n\": \"poirier_commun_n\",\n",
    "                      \"gerbille|ja=スナネズミ|nl=gerbils|pl=myszoskoczki_n\": \"gerbille_n\",\n",
    "                      \"nèfle|lt=šliandra|os=мугæ_n\": \"nèfle_n\",\n",
    "                      \"squamates|ja=トカゲ目_n\": \"squamates_n\",\n",
    "                      \"néflier_du_japon|ja=ビワ|nl=loquat|pt=nêspera_n\": \"néflier_du_japon_n\",\n",
    "                      \"radioactivité_α_n\": \"radioactivité_α_n\",\n",
    "                      \"α_Virginis_n\": \"α_Virginis_n\",\n",
    "                      \"particule_α_n\": \"particule_α_n\",\n",
    "                      \"acide_α-linolénique_n\": \"acide_α-linolénique_n\",\n",
    "                      \"β-bloquant_n\": \"β-bloquant_n\",\n",
    "                      \"radioactivité_β_n\": \"radioactivité_β_n\",\n",
    "                      \"particule_β_n\": \"particule_β_n\"\n",
    "                     }\n",
    "\n",
    "for key in sim_voc_roman_dict:\n",
    "    wolf_voc.remove(key)\n",
    "    wolf_voc.append(sim_voc_roman_dict[key])"
   ]
  },
  {
   "cell_type": "markdown",
   "metadata": {},
   "source": [
    "## Reject function words"
   ]
  },
  {
   "cell_type": "code",
   "execution_count": 82,
   "metadata": {},
   "outputs": [],
   "source": [
    "glove_acc_pos = {\n",
    "    'np', 'nc', 'adj', 'v', 'adv', 'title', 'advneg', 'number'\n",
    "}\n",
    "glove_rej_pos = {\n",
    "     'coo', 'ncpred', 'pres', 'prep', 'csu', 'adjPref', 'advPref', '', 'predet', \n",
    "    'det', 'pro', 'poncts', 'clr', 'ponctw', 'advneg', 'pri', 'prel', 'suffAdj', \n",
    "    'ce', 'cln', 'aux', 'que', 'clg', 'clneg', 'N2', 'xpro', 'ilimp', 'restr', 'cld', 'cll', 'cla'\n",
    "}"
   ]
  },
  {
   "cell_type": "code",
   "execution_count": 84,
   "metadata": {},
   "outputs": [],
   "source": [
    "glove_voc = list()\n",
    "for raw in glove_voc_raw:\n",
    "    if raw.rsplit('_', 1)[1] in glove_acc_pos:\n",
    "        glove_voc.append(raw)"
   ]
  },
  {
   "cell_type": "code",
   "execution_count": 89,
   "metadata": {},
   "outputs": [
    {
     "data": {
      "text/plain": [
       "(56665, 160879, 163003)"
      ]
     },
     "execution_count": 89,
     "metadata": {},
     "output_type": "execute_result"
    }
   ],
   "source": [
    "len(wolf_voc), len(glove_voc), len(glove_voc_raw)"
   ]
  },
  {
   "cell_type": "markdown",
   "metadata": {},
   "source": [
    "# Word Alignment in two embeddings"
   ]
  },
  {
   "cell_type": "markdown",
   "metadata": {},
   "source": [
    "## POS translator"
   ]
  },
  {
   "cell_type": "code",
   "execution_count": 90,
   "metadata": {},
   "outputs": [],
   "source": [
    "pos_dict = {\n",
    "    'np': 'n', 'nc': 'n',\n",
    "    'adj': 'a', 'v': 'v',\n",
    "    'adv': 'b', 'title': 'n',\n",
    "    'advneg': 'b', 'number': 'a'\n",
    "}"
   ]
  },
  {
   "cell_type": "markdown",
   "metadata": {},
   "source": [
    "## Word Mapping from GloVe to WOLF"
   ]
  },
  {
   "cell_type": "markdown",
   "metadata": {},
   "source": [
    "### Transform WOLF vocabulary for inquery"
   ]
  },
  {
   "cell_type": "code",
   "execution_count": 144,
   "metadata": {},
   "outputs": [],
   "source": [
    "wolf_voc_dict = dict()\n",
    "for word_pos in wolf_voc:\n",
    "    word, pos = word_pos.rsplit('_', 1)\n",
    "    if word in wolf_voc_dict:\n",
    "        wolf_voc_dict[word].update(pos)\n",
    "    else:\n",
    "        wolf_voc_dict[word] = set(pos)"
   ]
  },
  {
   "cell_type": "code",
   "execution_count": 145,
   "metadata": {},
   "outputs": [],
   "source": [
    "wolf_case_fusion = list()\n",
    "for word in list(wolf_voc_dict.keys()):\n",
    "    if word != word.lower():\n",
    "        if word.lower() not in wolf_voc_dict:\n",
    "            wolf_voc_dict[word.lower()] = word\n",
    "        else:\n",
    "            wolf_case_fusion.append((word, wolf_voc_dict[word]))"
   ]
  },
  {
   "cell_type": "code",
   "execution_count": 147,
   "metadata": {},
   "outputs": [
    {
     "data": {
      "text/plain": [
       "4000"
      ]
     },
     "execution_count": 147,
     "metadata": {},
     "output_type": "execute_result"
    }
   ],
   "source": [
    "len(wolf_case_fusion)"
   ]
  },
  {
   "cell_type": "markdown",
   "metadata": {},
   "source": [
    "### Map GloVe to WOLF one by one"
   ]
  },
  {
   "cell_type": "code",
   "execution_count": 148,
   "metadata": {},
   "outputs": [],
   "source": [
    "glove2wolf = dict()\n",
    "glove_pos_no_match = list()\n",
    "glove_word_no_match = list()\n",
    "\n",
    "for word_pos in glove_voc:\n",
    "    word, pos = word_pos.rsplit('_', 1)\n",
    "    label = ''\n",
    "    pos = pos_dict[pos]\n",
    "    if ':' in word:\n",
    "        word, label = word.rsplit(':', 1)\n",
    "    if word in wolf_voc_dict:\n",
    "        if isinstance(wolf_voc_dict[word], str):\n",
    "            word = wolf_voc_dict[word]\n",
    "        if pos in wolf_voc_dict[word]:\n",
    "            glove2wolf[word_pos] = word + '_' + pos\n",
    "        else:\n",
    "            glove_pos_no_match.append((word_pos, word, wolf_voc_dict[word]))\n",
    "    else:\n",
    "        glove_word_no_match.append(word_pos)"
   ]
  },
  {
   "cell_type": "code",
   "execution_count": 110,
   "metadata": {},
   "outputs": [
    {
     "data": {
      "text/plain": [
       "(3112, 128305, 29462, 56665)"
      ]
     },
     "execution_count": 110,
     "metadata": {},
     "output_type": "execute_result"
    }
   ],
   "source": [
    "len(glove_pos_no_match), len(glove_word_no_match), len(glove2wolf), len(wolf_voc)"
   ]
  },
  {
   "cell_type": "code",
   "execution_count": 149,
   "metadata": {},
   "outputs": [
    {
     "data": {
      "text/plain": [
       "(3068, 128305, 29506, 56665)"
      ]
     },
     "execution_count": 149,
     "metadata": {},
     "output_type": "execute_result"
    }
   ],
   "source": [
    "len(glove_pos_no_match), len(glove_word_no_match), len(glove2wolf), len(wolf_voc)"
   ]
  },
  {
   "cell_type": "markdown",
   "metadata": {},
   "source": [
    "### Manual Resolution of Unmatched Terms"
   ]
  },
  {
   "cell_type": "code",
   "execution_count": 155,
   "metadata": {},
   "outputs": [],
   "source": [
    "#file = open(root_path + 'g2w_manual.csv', mode='w+')\n",
    "#file.write('\\n'.join(lpp_voc.difference(glove2wolf.values()).difference(lpp_voc.difference(wolf_voc))))\n",
    "#file.close()"
   ]
  },
  {
   "cell_type": "code",
   "execution_count": 154,
   "metadata": {},
   "outputs": [
    {
     "data": {
      "text/plain": [
       "(191, 70)"
      ]
     },
     "execution_count": 154,
     "metadata": {},
     "output_type": "execute_result"
    }
   ],
   "source": [
    "len(lpp_voc.difference(glove2wolf.values())), len(set(wsrel_voc).union(simlex_voc).difference(glove2wolf.values()))"
   ]
  },
  {
   "cell_type": "code",
   "execution_count": 161,
   "metadata": {},
   "outputs": [],
   "source": [
    "manual_correction = pd.read_csv(root_path + 'g2w_manual.csv', header=None).dropna()"
   ]
  },
  {
   "cell_type": "code",
   "execution_count": 166,
   "metadata": {},
   "outputs": [],
   "source": [
    "manual_correction = manual_correction.set_index(1).to_dict()[0]"
   ]
  },
  {
   "cell_type": "code",
   "execution_count": 167,
   "metadata": {},
   "outputs": [
    {
     "data": {
      "text/plain": [
       "{'accorder_v',\n",
       " 'coucher_v',\n",
       " 'demain_adv',\n",
       " 'huit_nc',\n",
       " 'ici_adv',\n",
       " 'loin_adv',\n",
       " 'lune_nc',\n",
       " 'occuper_v',\n",
       " 'oiseau_nc',\n",
       " 'orgueilleux_adj',\n",
       " 'petit-déjeuner_nc',\n",
       " 'plonger_v',\n",
       " 'public_adj',\n",
       " 'quarante_nc',\n",
       " 'reposer_v',\n",
       " 'souvenir_v',\n",
       " 'surprise_adj',\n",
       " 'taire_v',\n",
       " 'tenir_v',\n",
       " 'terre_nc',\n",
       " 'trouver_v',\n",
       " 'vider_v',\n",
       " 'vingt_nc'}"
      ]
     },
     "execution_count": 167,
     "metadata": {},
     "output_type": "execute_result"
    }
   ],
   "source": [
    "set(manual_correction.keys()).intersection(glove2wolf.keys())"
   ]
  },
  {
   "cell_type": "code",
   "execution_count": null,
   "metadata": {},
   "outputs": [],
   "source": []
  }
 ],
 "metadata": {
  "kernelspec": {
   "display_name": "Python 3",
   "language": "python",
   "name": "python3"
  },
  "language_info": {
   "codemirror_mode": {
    "name": "ipython",
    "version": 3
   },
   "file_extension": ".py",
   "mimetype": "text/x-python",
   "name": "python",
   "nbconvert_exporter": "python",
   "pygments_lexer": "ipython3",
   "version": "3.6.5"
  }
 },
 "nbformat": 4,
 "nbformat_minor": 2
}
