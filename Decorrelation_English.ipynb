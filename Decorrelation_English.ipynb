{
 "cells": [
  {
   "cell_type": "code",
   "execution_count": 74,
   "metadata": {},
   "outputs": [],
   "source": [
    "import os, logging, gensim\n",
    "import numpy as np\n",
    "import pandas as pd\n",
    "from sklearn import linear_model\n",
    "from sklearn.decomposition import PCA\n",
    "from matplotlib import pyplot as plt\n",
    "from matplotlib import cm\n",
    "import gensim"
   ]
  },
  {
   "cell_type": "code",
   "execution_count": 2,
   "metadata": {},
   "outputs": [],
   "source": [
    "# Global configuration\n",
    "lang = 'English'\n",
    "root_path = '/home/sying/Documents/Decorrelation/' + lang + '/'\n",
    "\n",
    "if lang == 'French':\n",
    "    sim_model_path = root_path + 'wolf_15k_850d.txt'\n",
    "    mix_model_path = root_path + 'depglove_200d_eric.txt'\n",
    "    asn_model_path = root_path + 'asn_embedding.txt'\n",
    "    sig_model_path = root_path + 'sig_embedding.txt'\n",
    "elif lang == 'English':\n",
    "    sim_model_path = root_path + 'sim_embedding.txt'\n",
    "    mix_model_path = root_path + 'glove_840B_300d.txt'\n",
    "    asn_model_path = root_path + 'asn_embedding.txt'\n",
    "    sig_model_path = root_path + 'sig_embedding.txt'\n"
   ]
  },
  {
   "cell_type": "code",
   "execution_count": 80,
   "metadata": {},
   "outputs": [],
   "source": [
    "# Word Alignment in two embeddings\n",
    "file = open(sim_model_path, mode='r')\n",
    "voc, dim = file.readline().split(' ')\n",
    "voc = int(voc)\n",
    "dim_sim = int(dim)\n",
    "\n",
    "file_data = file.readlines()\n",
    "file.close()\n",
    "\n",
    "vocabulary = dict()\n",
    "idx = 0\n",
    "sim_model = np.zeros((voc, dim_sim), dtype=np.float32)\n",
    "word_list = []\n",
    "\n",
    "for line in file_data:\n",
    "    vector = line.split(' ')\n",
    "    word_list.append(vector[0])\n",
    "    vocabulary[vector[0]] = idx\n",
    "    sim_model[idx,:] = vector[1:]\n",
    "    idx += 1"
   ]
  },
  {
   "cell_type": "code",
   "execution_count": 51,
   "metadata": {},
   "outputs": [],
   "source": [
    "sim_model_origin = np.load('/home/sying/Documents/WordNetEmbeddings/data/output_230119/Normalized_random_walk.npy')"
   ]
  },
  {
   "cell_type": "code",
   "execution_count": 107,
   "metadata": {},
   "outputs": [
    {
     "data": {
      "text/plain": [
       "[<matplotlib.lines.Line2D at 0x7f689dee9940>]"
      ]
     },
     "execution_count": 107,
     "metadata": {},
     "output_type": "execute_result"
    },
    {
     "data": {
      "image/png": "[encoded data removed]",
      "text/plain": [
       "<Figure size 432x288 with 1 Axes>"
      ]
     },
     "metadata": {
      "needs_background": "light"
     },
     "output_type": "display_data"
    }
   ],
   "source": [
    "pca = PCA(n_components=8000, svd_solver='randomized')\n",
    "pca_sim_o = pca.fit(sim_model_origin)\n",
    "var_cum = np.cumsum(pca_sim_o.explained_variance_ratio_)\n",
    "plt.plot(var_cum)\n",
    "plt.plot(pca_sim_o.explained_variance_ratio_)"
   ]
  },
  {
   "cell_type": "code",
   "execution_count": 123,
   "metadata": {},
   "outputs": [
    {
     "data": {
      "text/plain": [
       "[<matplotlib.lines.Line2D at 0x7f689de52a20>]"
      ]
     },
     "execution_count": 123,
     "metadata": {},
     "output_type": "execute_result"
    },
    {
     "data": {
      "image/png": "[encoded data removed]",
      "text/plain": [
       "<Figure size 432x288 with 1 Axes>"
      ]
     },
     "metadata": {
      "needs_background": "light"
     },
     "output_type": "display_data"
    }
   ],
   "source": [
    "plt.plot(var_cum)\n",
    "plt.plot(pca_sim_o.explained_variance_ratio_)"
   ]
  },
  {
   "cell_type": "code",
   "execution_count": 122,
   "metadata": {},
   "outputs": [
    {
     "data": {
      "text/plain": [
       "109"
      ]
     },
     "execution_count": 122,
     "metadata": {},
     "output_type": "execute_result"
    }
   ],
   "source": [
    "np.argmin(pca_sim_o.explained_variance_ratio_ > 0.0008)"
   ]
  },
  {
   "cell_type": "code",
   "execution_count": 71,
   "metadata": {},
   "outputs": [
    {
     "data": {
      "image/png": "[encoded data removed]",
      "text/plain": [
       "<Figure size 432x288 with 1 Axes>"
      ]
     },
     "metadata": {
      "needs_background": "light"
     },
     "output_type": "display_data"
    }
   ],
   "source": [
    "for idx, pca in enumerate(pca_list):\n",
    "    plt.plot(pca.explained_variance_, c=cm.Set1.colors[idx], label=pca)\n",
    "#plt.legend()\n",
    "plt.show()"
   ]
  },
  {
   "cell_type": "code",
   "execution_count": 92,
   "metadata": {},
   "outputs": [],
   "source": [
    "for dim in [1, 3, 5, 10, 20, 40]: # 50, 100, 200, 300, 800\n",
    "    pca = PCA(n_components=dim, svd_solver='randomized')\n",
    "    pca_sim_o = pca.fit_transform(sim_model_origin)\n",
    "    file = open(root_path + 'sim_15k_'+ str(dim) +'d.txt', mode='w+')\n",
    "    file.write('15000 ' + str(dim) + '\\n')\n",
    "    for idx, word in enumerate(word_list):\n",
    "        file.write(word + ' ')\n",
    "        file.write(' '.join(map(str, pca_sim_o[idx])))\n",
    "        file.write('\\n')\n",
    "    file.close()"
   ]
  },
  {
   "cell_type": "code",
   "execution_count": 95,
   "metadata": {},
   "outputs": [],
   "source": [
    "score_evo = {\n",
    "    \"wordsim_rel.csv\": [],\n",
    "    \"simlex999.csv\": []\n",
    "}"
   ]
  },
  {
   "cell_type": "code",
   "execution_count": 96,
   "metadata": {},
   "outputs": [
    {
     "name": "stdout",
     "output_type": "stream",
     "text": [
      "ref: wordsim_rel.csv---dim: 1---------------------\n",
      "Pearson, r -0.028923297307265075 p 0.6516810015999543\n",
      "Spearman, r -0.02731437236332027 p 0.6698843299700079\n",
      "ref: simlex999.csv---dim: 1---------------------\n",
      "Pearson, r 0.0928559065481487 p 0.003339586656018638\n",
      "Spearman, r 0.09242353672122837 p 0.0034902816674589445\n",
      "ref: wordsim_rel.csv---dim: 3---------------------\n",
      "Pearson, r -0.1147370630683565 p 0.07243858520218825\n",
      "Spearman, r -0.12674279203416902 p 0.0470584861824747\n",
      "ref: simlex999.csv---dim: 3---------------------\n",
      "Pearson, r 0.17847960435359886 p 1.3942247171809345e-08\n",
      "Spearman, r 0.2034355852047033 p 8.96800074474767e-11\n",
      "ref: wordsim_rel.csv---dim: 5---------------------\n",
      "Pearson, r -0.08838897190236404 p 0.1669802124737106\n",
      "Spearman, r -0.08805512202560013 p 0.16859509561157598\n",
      "ref: simlex999.csv---dim: 5---------------------\n",
      "Pearson, r 0.2297706480775799 p 2.065932941356539e-13\n",
      "Spearman, r 0.2549544588985472 p 2.942848659254214e-16\n",
      "ref: wordsim_rel.csv---dim: 10---------------------\n",
      "Pearson, r -0.046882237972833085 p 0.4641828325912346\n",
      "Spearman, r -0.028083373078858966 p 0.661159004578777\n",
      "ref: simlex999.csv---dim: 10---------------------\n",
      "Pearson, r 0.27978624827377 p 2.182901928713544e-19\n",
      "Spearman, r 0.31837097913878054 p 6.384036306284112e-25\n",
      "ref: wordsim_rel.csv---dim: 20---------------------\n",
      "Pearson, r -0.0382305788127016 p 0.5506493236529124\n",
      "Spearman, r -0.02543910474144678 p 0.6913461831391701\n",
      "ref: simlex999.csv---dim: 20---------------------\n",
      "Pearson, r 0.3495497870081663 p 5.003955050823015e-30\n",
      "Spearman, r 0.4000502312927901 p 1.30965107256481e-39\n",
      "ref: wordsim_rel.csv---dim: 40---------------------\n",
      "Pearson, r -0.009234995903273988 p 0.885413138558073\n",
      "Spearman, r 0.013506830404237367 p 0.8330612926375526\n",
      "ref: simlex999.csv---dim: 40---------------------\n",
      "Pearson, r 0.4025219383630715 p 4.014575427465061e-40\n",
      "Spearman, r 0.44669996635777365 p 4.5963102468597635e-50\n",
      "ref: wordsim_rel.csv---dim: 50---------------------\n",
      "Pearson, r -0.0015320001847208779 p 0.9809274962270702\n",
      "Spearman, r 0.02017518846219216 p 0.7528711098525265\n",
      "ref: simlex999.csv---dim: 50---------------------\n",
      "Pearson, r 0.42133988402049327 p 3.541882681104624e-44\n",
      "Spearman, r 0.46003088925530355 p 2.302382051430861e-53\n",
      "ref: wordsim_rel.csv---dim: 100---------------------\n",
      "Pearson, r 0.011952773872710633 p 0.8520340478388693\n",
      "Spearman, r 0.02841245163210997 p 0.6574390231959367\n",
      "ref: simlex999.csv---dim: 100---------------------\n",
      "Pearson, r 0.4619072456311293 p 7.687977373113853e-54\n",
      "Spearman, r 0.48124890304191986 p 6.290475245374582e-59\n",
      "ref: wordsim_rel.csv---dim: 200---------------------\n",
      "Pearson, r 0.007721780361340373 p 0.9040899775887068\n",
      "Spearman, r 0.014076542426862782 p 0.8261294677781841\n",
      "ref: simlex999.csv---dim: 200---------------------\n",
      "Pearson, r 0.4848740094912311 p 6.432963611644801e-60\n",
      "Spearman, r 0.4901976896934251 p 2.1498590131109067e-61\n",
      "ref: wordsim_rel.csv---dim: 300---------------------\n",
      "Pearson, r 0.005855021798310096 p 0.9272021832693457\n",
      "Spearman, r 0.01622825562333516 p 0.8000746106770416\n",
      "ref: simlex999.csv---dim: 300---------------------\n",
      "Pearson, r 0.49714366411093197 p 2.3283790609524464e-63\n",
      "Spearman, r 0.49592860408577494 p 5.177589066080533e-63\n",
      "ref: wordsim_rel.csv---dim: 800---------------------\n",
      "Pearson, r 0.05276243732629392 p 0.40999314946442456\n",
      "Spearman, r 0.028018861433866504 p 0.6618892390845371\n",
      "ref: simlex999.csv---dim: 800---------------------\n",
      "Pearson, r 0.507643732642496 p 2.0359526788861327e-66\n",
      "Spearman, r 0.4986599930398665 p 8.549842575293313e-64\n"
     ]
    }
   ],
   "source": [
    "ref_model = [\"wordsim_rel.csv\", \"simlex999.csv\"]\n",
    "\n",
    "for dim in [1, 3, 5, 10, 20, 40, 50, 100, 200, 300, 800]: \n",
    "    model = gensim.models.KeyedVectors.load_word2vec_format(root_path + 'sim_15k_'+ str(dim) +'d.txt', binary=False)\n",
    "    for ref in ref_model:\n",
    "        print (\"ref: %s---dim: %d---------------------\"%(ref, dim))\n",
    "        refp = \"/home/sying/Documents/WordNetEmbeddings/data/input/English_testset/\" + ref\n",
    "        res = model.evaluate_word_pairs(refp, delimiter=';')\n",
    "        print(\"Pearson, r\", res[0][0], 'p', res[0][1])\n",
    "        print(\"Spearman, r\", res[1][0], 'p', res[1][1])     \n",
    "        score_evo[ref].append(res[1][0])\n",
    "        # print(\"OOV\", res[2])        "
   ]
  },
  {
   "cell_type": "code",
   "execution_count": 98,
   "metadata": {},
   "outputs": [
    {
     "data": {
      "text/plain": [
       "<matplotlib.legend.Legend at 0x7f689e6a30b8>"
      ]
     },
     "execution_count": 98,
     "metadata": {},
     "output_type": "execute_result"
    },
    {
     "data": {
      "image/png": "[encoded data removed]",
      "text/plain": [
       "<Figure size 432x288 with 1 Axes>"
      ]
     },
     "metadata": {
      "needs_background": "light"
     },
     "output_type": "display_data"
    }
   ],
   "source": [
    "dims = [1, 3, 5, 10, 20, 40, 50, 100, 200, 300, 800]\n",
    "plt.scatter(dims, score_evo['wordsim_rel.csv'], c='r', label='rel')\n",
    "plt.scatter(dims, score_evo['simlex999.csv'], c='g', label='sim')\n",
    "plt.legend()"
   ]
  },
  {
   "cell_type": "code",
   "execution_count": 5,
   "metadata": {},
   "outputs": [],
   "source": [
    "if lang == 'French':\n",
    "    file = open(mix_model_path, mode='r', encoding=\"cp1252\")\n",
    "if lang == 'English':\n",
    "    file = open(mix_model_path, mode='r')\n",
    "file_data = file.readlines()\n",
    "file.close()"
   ]
  },
  {
   "cell_type": "code",
   "execution_count": 16,
   "metadata": {},
   "outputs": [],
   "source": [
    "if lang == 'English':\n",
    "    dim_mix = len(file_data[0].split(' ')) - 1\n",
    "    #mix_model = np.zeros((voc, dim_mix), dtype=np.float32)\n",
    "    for line in file_data:\n",
    "        vector = line.split(' ', 1)\n",
    "        try:\n",
    "            idx = vocabulary.pop(vector[0])\n",
    "            #mix_model[idx,:] = vector[1:]\n",
    "        except KeyError:\n",
    "            continue\n",
    "            \n",
    "elif lang == 'French':\n",
    "    dim_mix = int(file_data[1])\n",
    "    mix_model = np.zeros((voc, dim_mix), dtype=np.float32)\n",
    "    \n",
    "    for line in file_data[2:]:\n",
    "        vector = line.split(' ')\n",
    "        word = vector[0].split(':')[0]\n",
    "        try:\n",
    "            idx = vocabulary.pop(word)\n",
    "            mix_model[idx,:] = vector[1:]\n",
    "        except KeyError:\n",
    "            continue\n",
    "        "
   ]
  },
  {
   "cell_type": "code",
   "execution_count": 19,
   "metadata": {},
   "outputs": [
    {
     "data": {
      "text/plain": [
       "8157"
      ]
     },
     "execution_count": 19,
     "metadata": {},
     "output_type": "execute_result"
    }
   ],
   "source": [
    "voc - len(vocabulary)"
   ]
  },
  {
   "cell_type": "code",
   "execution_count": null,
   "metadata": {},
   "outputs": [],
   "source": [
    "vocabulary_mask = np.ones(voc, dtype=np.bool)\n",
    "vocabulary_mask[list(vocabulary.values())] = 0\n",
    "\n",
    "sim_model_red = sim_model[vocabulary_mask,:]\n",
    "mix_model_red = mix_model[vocabulary_mask,:]"
   ]
  },
  {
   "cell_type": "code",
   "execution_count": null,
   "metadata": {},
   "outputs": [],
   "source": [
    "# Linear Decorrelation by projecting A emb. onto B emb.\n",
    "\n",
    "reg = linear_model.LinearRegression()\n",
    "reg.fit(sim_model_red, mix_model_red)\n",
    "score = reg.score(sim_model_red, mix_model_red)\n",
    "print(\"Model mapping score: \", score)\n",
    "\n",
    "asn_model_red = mix_model_red - reg.predict(sim_model_red)\n",
    "word_list = [word_list[i] for i in range(len(word_list)) if vocabulary_mask[i]]\n",
    "file = open(asn_model_path, mode='w')\n",
    "file.write('{} {}\\n'.format(len(word_list), dim_mix))\n",
    "asn_model_df = pd.DataFrame(asn_model_red, index=word_list)\n",
    "file.write(asn_model_df.to_csv(sep=' ', header=False))\n",
    "file.close()\n",
    "\n",
    "file = open(sig_model_path, mode='w')\n",
    "file.write('{} {}\\n'.format(len(word_list), dim_mix))\n",
    "sig_model_red = reg.predict(sim_model_red)\n",
    "sig_model_df = pd.DataFrame(sig_model_red, index=word_list)\n",
    "file.write(sig_model_df.to_csv(sep=' ', header=False))\n",
    "file.close()\n"
   ]
  },
  {
   "cell_type": "markdown",
   "metadata": {},
   "source": [
    "# De correlation check"
   ]
  },
  {
   "cell_type": "code",
   "execution_count": 6,
   "metadata": {},
   "outputs": [
    {
     "data": {
      "text/plain": [
       "(15000, 850)"
      ]
     },
     "execution_count": 6,
     "metadata": {},
     "output_type": "execute_result"
    }
   ],
   "source": [
    "sim_model.shape"
   ]
  },
  {
   "cell_type": "code",
   "execution_count": 136,
   "metadata": {},
   "outputs": [
    {
     "data": {
      "text/plain": [
       "[<matplotlib.lines.Line2D at 0x7f689da5ad68>]"
      ]
     },
     "execution_count": 136,
     "metadata": {},
     "output_type": "execute_result"
    },
    {
     "data": {
      "image/png": "[encoded data removed]",
      "text/plain": [
       "<Figure size 432x288 with 1 Axes>"
      ]
     },
     "metadata": {
      "needs_background": "light"
     },
     "output_type": "display_data"
    }
   ],
   "source": [
    "pca = PCA(n_components=300, svd_solver='full')\n",
    "pca.fit(sig_model)\n",
    "plt.plot(np.cumsum(pca.explained_variance_ratio_))"
   ]
  },
  {
   "cell_type": "code",
   "execution_count": 137,
   "metadata": {},
   "outputs": [
    {
     "data": {
      "text/plain": [
       "[<matplotlib.lines.Line2D at 0x7f689d9af9b0>]"
      ]
     },
     "execution_count": 137,
     "metadata": {},
     "output_type": "execute_result"
    },
    {
     "data": {
      "image/png": "[encoded data removed]",
      "text/plain": [
       "<Figure size 432x288 with 1 Axes>"
      ]
     },
     "metadata": {
      "needs_background": "light"
     },
     "output_type": "display_data"
    }
   ],
   "source": [
    "pca = PCA(n_components=300, svd_solver='full')\n",
    "pca.fit(asn_model)\n",
    "plt.plot(np.cumsum(pca.explained_variance_ratio_))"
   ]
  },
  {
   "cell_type": "code",
   "execution_count": 138,
   "metadata": {},
   "outputs": [
    {
     "data": {
      "text/plain": [
       "[<matplotlib.lines.Line2D at 0x7f689d988668>]"
      ]
     },
     "execution_count": 138,
     "metadata": {},
     "output_type": "execute_result"
    },
    {
     "data": {
      "image/png": "[encoded data removed]",
      "text/plain": [
       "<Figure size 432x288 with 1 Axes>"
      ]
     },
     "metadata": {
      "needs_background": "light"
     },
     "output_type": "display_data"
    }
   ],
   "source": [
    "pca = PCA(n_components=300, svd_solver='full')\n",
    "pca.fit(asn_model+sig_model)\n",
    "plt.plot(np.cumsum(pca.explained_variance_ratio_))"
   ]
  },
  {
   "cell_type": "code",
   "execution_count": 139,
   "metadata": {},
   "outputs": [
    {
     "data": {
      "text/plain": [
       "8157"
      ]
     },
     "execution_count": 139,
     "metadata": {},
     "output_type": "execute_result"
    }
   ],
   "source": [
    "len(word_list)"
   ]
  },
  {
   "cell_type": "code",
   "execution_count": 140,
   "metadata": {},
   "outputs": [],
   "source": [
    "for dim in [1, 3, 5, 10, 20, 40, 50, 100, 200, 300]: # 50, 100, 200, 300, 800\n",
    "    pca = PCA(n_components=dim, svd_solver='full')\n",
    "    pca_sim_o = pca.fit_transform(sig_model)\n",
    "    file = open(root_path + 'sig_'+ str(dim) +'d.txt', mode='w+')\n",
    "    file.write('8157 ' + str(dim) + '\\n')\n",
    "    for idx, word in enumerate(word_list):\n",
    "        file.write(word + ' ')\n",
    "        file.write(' '.join(map(str, pca_sim_o[idx])))\n",
    "        file.write('\\n')\n",
    "    file.close()"
   ]
  },
  {
   "cell_type": "code",
   "execution_count": 141,
   "metadata": {},
   "outputs": [],
   "source": [
    "score_evo = {\n",
    "    \"wordsim_rel.csv\": [],\n",
    "    \"simlex999.csv\": []\n",
    "}"
   ]
  },
  {
   "cell_type": "code",
   "execution_count": 142,
   "metadata": {},
   "outputs": [
    {
     "name": "stdout",
     "output_type": "stream",
     "text": [
      "ref: wordsim_rel.csv---dim: 1---------------------\n",
      "Pearson, r -0.056527349919642214 p 0.3773512024430653\n",
      "Spearman, r -0.06305081278724561 p 0.3246943813383527\n",
      "ref: simlex999.csv---dim: 1---------------------\n",
      "Pearson, r 0.0797900002201284 p 0.011727075467404128\n",
      "Spearman, r 0.07828444789378097 p 0.013415298601460705\n",
      "ref: wordsim_rel.csv---dim: 3---------------------\n",
      "Pearson, r 0.013924487966183133 p 0.8279782577426049\n",
      "Spearman, r 0.015312108663798098 p 0.8111429137370983\n",
      "ref: simlex999.csv---dim: 3---------------------\n"
     ]
    },
    {
     "name": "stderr",
     "output_type": "stream",
     "text": [
      "/home/sying/root/anaconda3/envs/micipsa/lib/python3.6/site-packages/gensim/matutils.py:737: FutureWarning: Conversion of the second argument of issubdtype from `int` to `np.signedinteger` is deprecated. In future, it will be treated as `np.int64 == np.dtype(int).type`.\n",
      "  if np.issubdtype(vec.dtype, np.int):\n"
     ]
    },
    {
     "name": "stdout",
     "output_type": "stream",
     "text": [
      "Pearson, r 0.1944246204781682 p 5.998106486212629e-10\n",
      "Spearman, r 0.2390851064450013 p 1.9951453847966138e-14\n",
      "ref: wordsim_rel.csv---dim: 5---------------------\n",
      "Pearson, r 0.04386672854489525 p 0.4934396807917223\n",
      "Spearman, r 0.05930570331116747 p 0.3543152498636163\n",
      "ref: simlex999.csv---dim: 5---------------------\n",
      "Pearson, r 0.22627280100743427 p 4.842850086752783e-13\n",
      "Spearman, r 0.2918327635830221 p 5.022651115410627e-21\n",
      "ref: wordsim_rel.csv---dim: 10---------------------\n",
      "Pearson, r 0.06650819245246309 p 0.29881491914382907\n",
      "Spearman, r 0.07588985764337688 p 0.23564816665548333\n",
      "ref: simlex999.csv---dim: 10---------------------\n",
      "Pearson, r 0.28034347833740114 p 1.840831020398104e-19\n",
      "Spearman, r 0.3583062009384516 p 1.437823105395034e-31\n",
      "ref: wordsim_rel.csv---dim: 20---------------------\n",
      "Pearson, r 0.10115821015510085 p 0.11351590782196165\n",
      "Spearman, r 0.118539259545451 p 0.06341132762347461\n",
      "ref: simlex999.csv---dim: 20---------------------\n",
      "Pearson, r 0.32832285525210725 p 1.7339322438355057e-26\n",
      "Spearman, r 0.4029656410780314 p 3.243373647317341e-40\n",
      "ref: wordsim_rel.csv---dim: 40---------------------\n",
      "Pearson, r 0.13066714422606607 p 0.0405811989455389\n",
      "Spearman, r 0.14479233134899114 p 0.023123080927070314\n",
      "ref: simlex999.csv---dim: 40---------------------\n",
      "Pearson, r 0.37517720770287744 p 1.1182502851196453e-34\n",
      "Spearman, r 0.43954068456784917 p 2.3725615898314075e-48\n",
      "ref: wordsim_rel.csv---dim: 50---------------------\n",
      "Pearson, r 0.1342051277973316 p 0.035401970933163704\n",
      "Spearman, r 0.14265371464538196 p 0.025253950318967777\n",
      "ref: simlex999.csv---dim: 50---------------------\n",
      "Pearson, r 0.386987187265972 p 5.753464622039648e-37\n",
      "Spearman, r 0.4473893561604476 p 3.1283019978975827e-50\n",
      "ref: wordsim_rel.csv---dim: 100---------------------\n",
      "Pearson, r 0.14903990611197745 p 0.019347287962577096\n",
      "Spearman, r 0.15770464282973437 p 0.013270785320814745\n",
      "ref: simlex999.csv---dim: 100---------------------\n",
      "Pearson, r 0.42682978448631015 p 2.0748264434594297e-45\n",
      "Spearman, r 0.47328994752096754 p 8.542062528620834e-57\n",
      "ref: wordsim_rel.csv---dim: 200---------------------\n",
      "Pearson, r 0.1517892732258596 p 0.01719940990864652\n",
      "Spearman, r 0.1555571588876255 p 0.014594924685707807\n",
      "ref: simlex999.csv---dim: 200---------------------\n",
      "Pearson, r 0.4482894502363491 p 1.8904145458072564e-50\n",
      "Spearman, r 0.48397885931467594 p 1.1325219538808584e-59\n",
      "ref: wordsim_rel.csv---dim: 300---------------------\n",
      "Pearson, r 0.15375187037343407 p 0.015796219905402514\n",
      "Spearman, r 0.15576836038643652 p 0.01445975395514419\n",
      "ref: simlex999.csv---dim: 300---------------------\n",
      "Pearson, r 0.45408151081545495 p 7.130348975258183e-52\n",
      "Spearman, r 0.4865511830260916 p 2.219306107655747e-60\n"
     ]
    }
   ],
   "source": [
    "ref_model = [\"wordsim_rel.csv\", \"simlex999.csv\"]\n",
    "\n",
    "for dim in [1, 3, 5, 10, 20, 40, 50, 100, 200, 300]: \n",
    "    model = gensim.models.KeyedVectors.load_word2vec_format(root_path + 'sig_'+ str(dim) +'d.txt', binary=False)\n",
    "    for ref in ref_model:\n",
    "        print (\"ref: %s---dim: %d---------------------\"%(ref, dim))\n",
    "        refp = \"/home/sying/Documents/WordNetEmbeddings/data/input/English_testset/\" + ref\n",
    "        res = model.evaluate_word_pairs(refp, delimiter=';')\n",
    "        print(\"Pearson, r\", res[0][0], 'p', res[0][1])\n",
    "        print(\"Spearman, r\", res[1][0], 'p', res[1][1])     \n",
    "        score_evo[ref].append(res[1][0])\n",
    "        # print(\"OOV\", res[2])        "
   ]
  },
  {
   "cell_type": "code",
   "execution_count": 144,
   "metadata": {},
   "outputs": [
    {
     "data": {
      "text/plain": [
       "<matplotlib.legend.Legend at 0x7f689da9c470>"
      ]
     },
     "execution_count": 144,
     "metadata": {},
     "output_type": "execute_result"
    },
    {
     "data": {
      "image/png": "[encoded data removed]",
      "text/plain": [
       "<Figure size 432x288 with 1 Axes>"
      ]
     },
     "metadata": {
      "needs_background": "light"
     },
     "output_type": "display_data"
    }
   ],
   "source": [
    "dims = [1, 3, 5, 10, 20, 40, 50, 100, 200, 300]\n",
    "plt.scatter(dims, score_evo['wordsim_rel.csv'], c='r', label='rel')\n",
    "plt.scatter(dims, score_evo['simlex999.csv'], c='g', label='sim')\n",
    "plt.legend()"
   ]
  },
  {
   "cell_type": "code",
   "execution_count": 145,
   "metadata": {},
   "outputs": [],
   "source": [
    "for dim in [1, 3, 5, 10, 20, 40, 50, 100, 200, 300]: # 50, 100, 200, 300, 800\n",
    "    pca = PCA(n_components=dim, svd_solver='full')\n",
    "    pca_sim_o = pca.fit_transform(asn_model)\n",
    "    file = open(root_path + 'asn_'+ str(dim) +'d.txt', mode='w+')\n",
    "    file.write('8157 ' + str(dim) + '\\n')\n",
    "    for idx, word in enumerate(word_list):\n",
    "        file.write(word + ' ')\n",
    "        file.write(' '.join(map(str, pca_sim_o[idx])))\n",
    "        file.write('\\n')\n",
    "    file.close()"
   ]
  },
  {
   "cell_type": "code",
   "execution_count": 146,
   "metadata": {},
   "outputs": [],
   "source": [
    "score_evo = {\n",
    "    \"wordsim_rel.csv\": [],\n",
    "    \"simlex999.csv\": []\n",
    "}"
   ]
  },
  {
   "cell_type": "code",
   "execution_count": 147,
   "metadata": {},
   "outputs": [
    {
     "name": "stdout",
     "output_type": "stream",
     "text": [
      "ref: wordsim_rel.csv---dim: 1---------------------\n",
      "Pearson, r 0.10553742564304748 p 0.09864177007304509\n",
      "Spearman, r 0.12465104909392706 p 0.05085037560496529\n",
      "ref: simlex999.csv---dim: 1---------------------\n",
      "Pearson, r -0.06423230366384403 p 0.042590408621556775\n",
      "Spearman, r -0.06419415978390189 p 0.042713783070042824\n",
      "ref: wordsim_rel.csv---dim: 3---------------------\n",
      "Pearson, r 0.19199597339564733 p 0.0024930244615243334\n",
      "Spearman, r 0.23424906389690725 p 0.0002096871618163823\n",
      "ref: simlex999.csv---dim: 3---------------------\n"
     ]
    },
    {
     "name": "stderr",
     "output_type": "stream",
     "text": [
      "/home/sying/root/anaconda3/envs/micipsa/lib/python3.6/site-packages/gensim/matutils.py:737: FutureWarning: Conversion of the second argument of issubdtype from `int` to `np.signedinteger` is deprecated. In future, it will be treated as `np.int64 == np.dtype(int).type`.\n",
      "  if np.issubdtype(vec.dtype, np.int):\n"
     ]
    },
    {
     "name": "stdout",
     "output_type": "stream",
     "text": [
      "Pearson, r -0.05893010177311525 p 0.0628829227459501\n",
      "Spearman, r -0.044049834184541746 p 0.16458451022111\n",
      "ref: wordsim_rel.csv---dim: 5---------------------\n",
      "Pearson, r 0.19952729358519838 p 0.001659675835204111\n",
      "Spearman, r 0.25711968726910767 p 4.4833247674864805e-05\n",
      "ref: simlex999.csv---dim: 5---------------------\n",
      "Pearson, r -0.0367591064104622 p 0.24620521557822495\n",
      "Spearman, r -0.0280459092128802 p 0.37636092667254506\n",
      "ref: wordsim_rel.csv---dim: 10---------------------\n",
      "Pearson, r 0.2920212728270038 p 3.1806914955017443e-06\n",
      "Spearman, r 0.3289390793848274 p 1.287529346770378e-07\n",
      "ref: simlex999.csv---dim: 10---------------------\n",
      "Pearson, r -0.013301051441778929 p 0.6748679467665855\n",
      "Spearman, r -0.00479528531505707 p 0.8797993897929733\n",
      "ref: wordsim_rel.csv---dim: 20---------------------\n",
      "Pearson, r 0.3390586864648829 p 4.946307156429529e-08\n",
      "Spearman, r 0.37804262174579595 p 8.893763403277865e-10\n",
      "ref: simlex999.csv---dim: 20---------------------\n",
      "Pearson, r 0.01411665849659504 p 0.6561746235645967\n",
      "Spearman, r 0.027445303175927013 p 0.38667126378343253\n",
      "ref: wordsim_rel.csv---dim: 40---------------------\n",
      "Pearson, r 0.44815461878345475 p 1.4816828347337508e-13\n",
      "Spearman, r 0.487742050619638 p 4.1698474370783253e-16\n",
      "ref: simlex999.csv---dim: 40---------------------\n",
      "Pearson, r 0.0697856404724858 p 0.027564773758471238\n",
      "Spearman, r 0.08092310704874325 p 0.010583454450428954\n",
      "ref: wordsim_rel.csv---dim: 50---------------------\n",
      "Pearson, r 0.46475215712924545 p 1.384574645346785e-14\n",
      "Spearman, r 0.5008490382910792 p 5.0162537926464335e-17\n",
      "ref: simlex999.csv---dim: 50---------------------\n",
      "Pearson, r 0.08915629713895608 p 0.004844166356575326\n",
      "Spearman, r 0.10264951474899744 p 0.0011716183671993633\n",
      "ref: wordsim_rel.csv---dim: 100---------------------\n",
      "Pearson, r 0.5158278957453173 p 3.97935368358382e-18\n",
      "Spearman, r 0.5507981927598827 p 6.4335528448169174e-21\n",
      "ref: simlex999.csv---dim: 100---------------------\n",
      "Pearson, r 0.14678528566727173 p 3.252292363307915e-06\n",
      "Spearman, r 0.16437269665197046 p 1.7975051675452257e-07\n",
      "ref: wordsim_rel.csv---dim: 200---------------------\n",
      "Pearson, r 0.5560062557836004 p 2.3132332159205773e-21\n",
      "Spearman, r 0.5879067797685315 p 2.9194996743094398e-24\n",
      "ref: simlex999.csv---dim: 200---------------------\n",
      "Pearson, r 0.18807299441553582 p 2.1706376216686892e-09\n",
      "Spearman, r 0.20546287159907253 p 5.776397780622061e-11\n",
      "ref: wordsim_rel.csv---dim: 300---------------------\n",
      "Pearson, r 0.5632952744620424 p 5.361313196493705e-22\n",
      "Spearman, r 0.5918164258343077 p 1.2238123257575755e-24\n",
      "ref: simlex999.csv---dim: 300---------------------\n",
      "Pearson, r 0.19535018877579688 p 4.954779934937202e-10\n",
      "Spearman, r 0.2132838276597285 p 1.014027814697165e-11\n"
     ]
    }
   ],
   "source": [
    "ref_model = [\"wordsim_rel.csv\", \"simlex999.csv\"]\n",
    "\n",
    "for dim in [1, 3, 5, 10, 20, 40, 50, 100, 200, 300]: \n",
    "    model = gensim.models.KeyedVectors.load_word2vec_format(root_path + 'asn_'+ str(dim) +'d.txt', binary=False)\n",
    "    for ref in ref_model:\n",
    "        print (\"ref: %s---dim: %d---------------------\"%(ref, dim))\n",
    "        refp = \"/home/sying/Documents/WordNetEmbeddings/data/input/English_testset/\" + ref\n",
    "        res = model.evaluate_word_pairs(refp, delimiter=';')\n",
    "        print(\"Pearson, r\", res[0][0], 'p', res[0][1])\n",
    "        print(\"Spearman, r\", res[1][0], 'p', res[1][1])     \n",
    "        score_evo[ref].append(res[1][0])\n",
    "        # print(\"OOV\", res[2])        "
   ]
  },
  {
   "cell_type": "code",
   "execution_count": 148,
   "metadata": {},
   "outputs": [
    {
     "data": {
      "text/plain": [
       "<matplotlib.legend.Legend at 0x7f689da8c278>"
      ]
     },
     "execution_count": 148,
     "metadata": {},
     "output_type": "execute_result"
    },
    {
     "data": {
      "image/png": "[encoded data removed]",
      "text/plain": [
       "<Figure size 432x288 with 1 Axes>"
      ]
     },
     "metadata": {
      "needs_background": "light"
     },
     "output_type": "display_data"
    }
   ],
   "source": [
    "dims = [1, 3, 5, 10, 20, 40, 50, 100, 200, 300]\n",
    "plt.scatter(dims, score_evo['wordsim_rel.csv'], c='r', label='rel')\n",
    "plt.scatter(dims, score_evo['simlex999.csv'], c='g', label='sim')\n",
    "plt.legend()"
   ]
  },
  {
   "cell_type": "code",
   "execution_count": 133,
   "metadata": {},
   "outputs": [],
   "source": [
    "file = open(sig_model_path, mode='r')\n",
    "voc, dim = file.readline().split(' ')\n",
    "voc = int(voc)\n",
    "dim_sim = int(dim)\n",
    "\n",
    "file_data = file.readlines()\n",
    "file.close()\n",
    "\n",
    "vocabulary = dict()\n",
    "idx = 0\n",
    "sig_model = np.zeros((voc, dim_sim), dtype=np.float32)\n",
    "word_list = []\n",
    "\n",
    "for line in file_data:\n",
    "    vector = line.split(' ')\n",
    "    word_list.append(vector[0])\n",
    "    vocabulary[vector[0]] = idx\n",
    "    sig_model[idx,:] = vector[1:]\n",
    "    idx += 1"
   ]
  },
  {
   "cell_type": "code",
   "execution_count": 134,
   "metadata": {},
   "outputs": [],
   "source": [
    "file = open(asn_model_path, mode='r')\n",
    "voc, dim = file.readline().split(' ')\n",
    "voc = int(voc)\n",
    "dim_sim = int(dim)\n",
    "\n",
    "file_data = file.readlines()\n",
    "file.close()\n",
    "\n",
    "idx = 0\n",
    "asn_model = np.zeros((voc, dim_sim), dtype=np.float32)\n",
    "\n",
    "for line in file_data:\n",
    "    vector = line.split(' ')\n",
    "    asn_model[idx,:] = vector[1:]\n",
    "    idx += 1"
   ]
  },
  {
   "cell_type": "code",
   "execution_count": 135,
   "metadata": {},
   "outputs": [
    {
     "data": {
      "image/png": "[encoded data removed]",
      "text/plain": [
       "<Figure size 432x288 with 1 Axes>"
      ]
     },
     "metadata": {
      "needs_background": "light"
     },
     "output_type": "display_data"
    }
   ],
   "source": [
    "plt.plot(np.cumsum(pca_sig.explained_variance_ratio_), c='r')\n",
    "plt.plot(np.cumsum(pca_asn.explained_variance_ratio_), c='g')\n",
    "plt.show()"
   ]
  },
  {
   "cell_type": "code",
   "execution_count": 25,
   "metadata": {},
   "outputs": [],
   "source": [
    "asn_sig_corr = asn_model_df.corrwith(sig_model_df, method='spearman', axis=0) "
   ]
  },
  {
   "cell_type": "code",
   "execution_count": 26,
   "metadata": {},
   "outputs": [
    {
     "data": {
      "text/plain": [
       "635"
      ]
     },
     "execution_count": 26,
     "metadata": {},
     "output_type": "execute_result"
    }
   ],
   "source": [
    "len(word_list)"
   ]
  },
  {
   "cell_type": "code",
   "execution_count": null,
   "metadata": {},
   "outputs": [],
   "source": []
  },
  {
   "cell_type": "code",
   "execution_count": 3,
   "metadata": {},
   "outputs": [],
   "source": [
    "# Extract vocabulary\n",
    "file = open(sim_model_path, mode='r')\n",
    "voc, dim = file.readline().split(' ')\n",
    "voc = int(voc)\n",
    "dim_sim = int(dim)\n",
    "\n",
    "\n",
    "file_data = file.readlines()\n",
    "file.close()\n",
    "\n",
    "vocabulary = dict()\n",
    "idx = 0\n",
    "word_list = []\n",
    "\n",
    "for line in file_data:\n",
    "    vector = line.split(' ')\n",
    "    word_list.append(vector[0])\n",
    "    vocabulary[vector[0]] = idx\n"
   ]
  },
  {
   "cell_type": "code",
   "execution_count": 6,
   "metadata": {},
   "outputs": [],
   "source": [
    "voc_file_path = root_path + 'sim_vocabulary.txt'\n",
    "file = open(voc_file_path, mode='w')\n",
    "file.write('\\n'.join(list(vocabulary.keys())))\n",
    "file.close()\n",
    "     "
   ]
  },
  {
   "cell_type": "code",
   "execution_count": 7,
   "metadata": {},
   "outputs": [],
   "source": [
    "file = open(mix_model_path, mode='r', encoding=\"cp1252\")\n",
    "file_data = file.readlines()\n",
    "file.close()\n",
    "\n",
    "voc_file_path = root_path + 'mix_vocabulary.txt'\n",
    "file = open(voc_file_path, mode='w')\n",
    "\n",
    "\n",
    "for line in file_data[2:]:\n",
    "    vector = line.split(' ')\n",
    "    word = vector[0].split(':')[0]\n",
    "    file.write(word+'\\n')\n",
    "    \n",
    "file.close()\n"
   ]
  },
  {
   "cell_type": "code",
   "execution_count": null,
   "metadata": {},
   "outputs": [],
   "source": []
  }
 ],
 "metadata": {
  "kernelspec": {
   "display_name": "Python 3",
   "language": "python",
   "name": "python3"
  },
  "language_info": {
   "codemirror_mode": {
    "name": "ipython",
    "version": 3
   },
   "file_extension": ".py",
   "mimetype": "text/x-python",
   "name": "python",
   "nbconvert_exporter": "python",
   "pygments_lexer": "ipython3",
   "version": "3.6.5"
  }
 },
 "nbformat": 4,
 "nbformat_minor": 2
}
